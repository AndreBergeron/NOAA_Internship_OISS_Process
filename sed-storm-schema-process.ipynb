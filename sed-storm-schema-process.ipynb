{
 "cells": [
  {
   "cell_type": "code",
   "execution_count": 44,
   "id": "a919b45a",
   "metadata": {},
   "outputs": [],
   "source": [
    "import os\n",
    "import pandas\n",
    "import pandas as pd\n",
    "from oiss.session import Session\n",
    "from oiss.ontology import IdentityTaskTemplate, TransformationTaskTemplate, OutputTaskTemplate\n",
    "from oiss.ontologies.entity import IdentityStoragePattern, OutputStoragePattern\n",
    "from oiss.ontologies.aic_entity import TransformationStoragePattern\n",
    "from oiss.ontology import IdentityStorageTemplate, TransformationStorageTemplate, OutputStorageTemplate\n",
    "from oiss.ontology import ProcessTemplate\n",
    "from oiss.ontology import UBLTemplate\n",
    "from io import BytesIO, StringIO\n",
    "from rdflib import Graph\n",
    "from collections import defaultdict\n",
    "from oiss.ontology import StatementField  \n",
    "from oiss.ontology import MemberDescriptionPattern  "
   ]
  },
  {
   "cell_type": "markdown",
   "id": "e300fec8",
   "metadata": {},
   "source": [
    "## Use this code to checkout the contents of the specific csv file that was read into OISS in this process"
   ]
  },
  {
   "cell_type": "code",
   "execution_count": 45,
   "id": "d32f5d58",
   "metadata": {},
   "outputs": [],
   "source": [
    "# csvFile = 'https://www.ncei.noaa.gov/pub/data/swdi/stormevents/csvfiles/StormEvents_details-ftp_v1.0_d1950_c20250520.csv.gz'\n",
    "# s3_bucket_name = 'nccf-sandbox-archive-workspace-us-east-1-188772587448' \n",
    "# file_key = 'foldername/SED.csv'\n",
    "\n",
    "# def extract_csv(s3_bucket_name):\n",
    "\n",
    "#     s3_client = boto3.client('s3')\n",
    "    \n",
    "#     file_key = 'foldername/SED.csv'\n",
    "\n",
    "#     response = s3_client.get_object(Bucket=s3_bucket_name, Key=file_key)\n",
    "\n",
    "#     csv_content = response['Body'].read().decode('utf-8')\n",
    "\n",
    "#     df = pd.read_csv(StringIO(csv_content))\n",
    "    \n",
    "#     json_str = df.to_json(orient='records', indent=2) \n",
    "\n",
    "#     # print(json_str)\n",
    "\n",
    "#     return df\n",
    "\n",
    "# extract_csv(s3_bucket_name)"
   ]
  },
  {
   "cell_type": "markdown",
   "id": "cfe3d932",
   "metadata": {},
   "source": [
    "## Here is the code used in to create the two sed lambda functions"
   ]
  },
  {
   "cell_type": "code",
   "execution_count": 46,
   "id": "0889206c",
   "metadata": {},
   "outputs": [],
   "source": [
    "# ### Lambda function #1 (save csv to s3)\n",
    "\n",
    "# import json\n",
    "# import requests\n",
    "# import io\n",
    "# import pandas as pd\n",
    "# import boto3\n",
    "\n",
    "# def lambda_handler(event, context):\n",
    "\n",
    "#     s3 = boto3.client('s3')\n",
    "\n",
    "#     # Extract UBL-mapped inputs\n",
    "#     csvFile = event[\"input_csv_s3_uri\"]     # UBL input: input_csv_s3_uri\n",
    "#     s3_bucket = event[\"output_s3_bucket\"]   # UBL input: output_s3_bucket\n",
    "#     s3_key = event.get(\"output_s3_key\", \"processed.csv\")  # UBL input: output_s3_key (default fallback)\n",
    "\n",
    "#     df = pd.read_csv(csvFile)\n",
    "\n",
    "#     # Write processed CSV to S3\n",
    "#     csv_buffer = io.StringIO()\n",
    "#     df.to_csv(csv_buffer, index=False)\n",
    "#     s3.put_object(Bucket=s3_bucket, Key=s3_key, Body=csv_buffer.getvalue())\n",
    "\n",
    "#     # Return outputs mapped as UBL would expect\n",
    "#     return {\n",
    "#         \"output_csv_s3_uri\": f\"s3://{s3_bucket}/{s3_key}\"\n",
    "        # }"
   ]
  },
  {
   "cell_type": "code",
   "execution_count": 47,
   "id": "ebec238a",
   "metadata": {},
   "outputs": [],
   "source": [
    "### Lambda function #2 (retrieve csv file from s3 and load as a json)\n",
    "\n",
    "# import io\n",
    "# import pandas as pd\n",
    "# import boto3\n",
    "\n",
    "# def lambda_handler(event, context):\n",
    "\n",
    "#     s3_bucket_name = event['s3_bucket_name']\n",
    "    \n",
    "#     file_key = event['file_key']\n",
    "\n",
    "#     s3_client = boto3.client('s3')\n",
    "    \n",
    "#     response = s3_client.get_object(Bucket=s3_bucket_name, Key=file_key)\n",
    "\n",
    "#     csv_content = response['Body'].read().decode('utf-8')\n",
    "\n",
    "#     df = pd.read_csv(io.StringIO(csv_content))\n",
    "\n",
    "#     json_str = df.to_json(orient='records', indent=2)\n",
    "\n",
    "#     return {\n",
    "#         \"statusCode\": 200,\n",
    "#         \"body\": json_str\n",
    "#     }"
   ]
  },
  {
   "cell_type": "code",
   "execution_count": 48,
   "id": "b651f444",
   "metadata": {},
   "outputs": [],
   "source": [
    "PROCESS_UUID = \"lapenta25_process_template\"\n",
    "SED_AIU_UUID = \"sed_aiu_template\"\n",
    "SED_AIC_UUID = \"sed_aic_template\"\n",
    "SED_DIP_UUID = \"sed_dip_template\"\n",
    "\n",
    "SED_SAVE_ARN = \"arn:aws:lambda:us-east-1:188772587448:function:sed-test-lambda\"\n",
    "SED_READ_ARN = \"arn:aws:lambda:us-east-1:188772587448:function:sed-test-lambda2\"\n",
    "\n",
    "AIU_TASK_ARN = \"arn:aws:states:us-east-1:560271376700:stateMachine:archive-main-aiu-workflow\"\n",
    "AIU_UBL_ARN = \"arn:aws:states:us-east-1:560271376700:stateMachine:archive-main-archive-data\"\n",
    "\n",
    "ARCHIVE_FILE_ARN = \"arn:aws:lambda:us-east-1:560271376700:function:archive-main-archive-data-ArchiveFile\"\n",
    "CREATE_UUID_ARN = \"arn:aws:lambda:us-east-1:560271376700:function:archive-main-archive-data-CreateUUID\"\n",
    "\n",
    "AIC_TASK_ARN = \"arn:aws:states:us-east-1:560271376700:stateMachine:archive-main-aic-workflow\"\n",
    "AIC_UBL_ARN = \"arn:aws:states:us-east-1:560271376700:stateMachine:archive-main-compute-aic-membership\"\n",
    "COMPUTE_AIC_MEMBER_ARN = \"arn:aws:lambda:us-east-1:560271376700:function:archive-main-compute-aic-membership-ComputeAICMemberVariables\"\n",
    "\n",
    "DIP_TASK_ARN = \"arn:aws:states:us-east-1:560271376700:stateMachine:archive-main-dip-workflow\"\n",
    "DIP_TRANSFORM_ARN = \"arn:aws:states:us-east-1:188772587448:stateMachine:api-e2e-transform-data-osim\"\n",
    "\n",
    "PROCESS_ACCESS_PAYLOAD_ARN = \"arn:aws:lambda:us-east-1:560271376700:function:archive-main-transform-data-osim-ProcessAccessPayload\"\n",
    "DIP_DELIVER_ARN = \"arn:aws:states:us-east-1:560271376700:stateMachine:archive-main-deliver-data-swpc\"\n",
    "WRITE_RECEIPT_ARN = \"arn:aws:lambda:us-east-1:560271376700:function:archive-main-deliver-data-osim-swpc-WriteReceipt\""
   ]
  },
  {
   "cell_type": "code",
   "execution_count": 49,
   "id": "9273a1d7",
   "metadata": {},
   "outputs": [
    {
     "name": "stdout",
     "output_type": "stream",
     "text": [
      "env: OISS_PREFIX=sandbox\n",
      "env: SPARQL_HOST=https://nccf-dev-sandbox-neptune.cluster-cd6wdbu8nvt0.us-east-1.neptune.amazonaws.com\n",
      "env: SPARQL_PORT=8182\n",
      "env: NEPTUNE_READ_ENDPOINT=https://nccf-dev-sandbox-neptune.cluster-cd6wdbu8nvt0.us-east-1.neptune.amazonaws.com #nccf-dev-sandbox-neptune.cluster-ro-cd6wdbu8nvt0.us-east-1.neptune.amazonaws.com\n",
      "env: AWS_REGION=us-east-1\n",
      "env: RDF_BUCKET_NAME=nccf-sandbox-archive-triplestore-us-east-1-188772587448\n",
      "env: DEPLOY_BUCKET=nccf-sandbox-archive-workspace-us-east-1-188772587448\n",
      "env: LD_LIBRARY_PATH=/usr/local/lib\n",
      "env: ARC_CONFIG_FILE=my_install.yml\n"
     ]
    },
    {
     "data": {
      "text/plain": [
       "{'SHELL': '/bin/bash',\n",
       " 'PWD': '/home/ec2-user',\n",
       " 'LOGNAME': 'ec2-user',\n",
       " 'XDG_SESSION_TYPE': 'tty',\n",
       " 'MOTD_SHOWN': 'pam',\n",
       " 'HOME': '/home/ec2-user',\n",
       " 'SSL_CERT_DIR': '/etc/pki/tls/certs',\n",
       " 'VSCODE_AGENT_FOLDER': '/home/ec2-user/.vscode-server',\n",
       " 'SSH_CONNECTION': '127.0.0.1 45330 127.0.0.1 22',\n",
       " 'XDG_SESSION_CLASS': 'user',\n",
       " 'SELINUX_ROLE_REQUESTED': '',\n",
       " 'USER': 'ec2-user',\n",
       " 'SELINUX_USE_CURRENT_RANGE': '',\n",
       " 'SHLVL': '1',\n",
       " 'XDG_SESSION_ID': '1',\n",
       " 'XDG_RUNTIME_DIR': '/run/user/1000',\n",
       " 'SSL_CERT_FILE': '/etc/pki/ca-trust/extracted/pem/tls-ca-bundle.pem',\n",
       " 'SSH_CLIENT': '127.0.0.1 45330 22',\n",
       " 'VSCODE_CLI_REQUIRE_TOKEN': '<hidden>',\n",
       " 'PATH': '/home/ec2-user/OISS/storm-events-graph/.sedvenv/bin:/home/ec2-user/.vscode-server/cli/servers/Stable-488a1f239235055e34e673291fb8d8c810886f81/server/bin/remote-cli:/home/ec2-user/bin:/home/ec2-user/bin:/usr/local/bin:/usr/bin:/usr/local/sbin:/usr/sbin:/home/ec2-user/.local/bin:/home/ec2-user/bin:/usr/local/bin:/usr/local/nodejs/current/bin:/home/ec2-user/.local/bin:/home/ec2-user/bin:/usr/local/bin:/usr/local/nodejs/current/bin',\n",
       " 'SELINUX_LEVEL_REQUESTED': '',\n",
       " 'DBUS_SESSION_BUS_ADDRESS': 'unix:path=/run/user/1000/bus',\n",
       " '_': '/home/ec2-user/OISS/storm-events-graph/.sedvenv/bin/python',\n",
       " 'VSCODE_CWD': '/home/ec2-user',\n",
       " 'VSCODE_NLS_CONFIG': '{\"userLocale\":\"en\",\"osLocale\":\"en\",\"resolvedLanguage\":\"en\",\"defaultMessagesFile\":\"/home/ec2-user/.vscode-server/cli/servers/Stable-488a1f239235055e34e673291fb8d8c810886f81/server/out/nls.messages.json\",\"locale\":\"en\",\"availableLanguages\":{}}',\n",
       " 'VSCODE_HANDLES_SIGPIPE': 'true',\n",
       " 'HISTCONTROL': 'ignoredups',\n",
       " 'SYSTEMD_COLORS': 'false',\n",
       " 'HISTSIZE': '100000',\n",
       " 'HOSTNAME': 'ip-10-170-89-112.ec2.internal',\n",
       " 'LANG': 'C.UTF-8',\n",
       " 'PROMPT_COMMAND': 'history -a;',\n",
       " 'GEM_HOME': '/home/ec2-user/.local/share/gem/ruby',\n",
       " 'LESSOPEN': '||/usr/bin/lesspipe.sh %s',\n",
       " 'S_COLORS': 'auto',\n",
       " 'which_declare': 'declare -f',\n",
       " 'HISTFILESIZE': '100000',\n",
       " 'MAIL': '/var/spool/mail/ec2-user',\n",
       " 'BASH_FUNC_which%%': '() {  ( alias;\\n eval ${which_declare} ) | /usr/bin/which --tty-only --read-alias --read-functions --show-tilde --show-dot \"$@\"\\n}',\n",
       " 'VSCODE_ESM_ENTRYPOINT': 'vs/workbench/api/node/extensionHostProcess',\n",
       " 'VSCODE_HANDLES_UNCAUGHT_ERRORS': 'true',\n",
       " 'BROWSER': '/home/ec2-user/.vscode-server/cli/servers/Stable-488a1f239235055e34e673291fb8d8c810886f81/server/bin/helpers/browser.sh',\n",
       " 'ELECTRON_RUN_AS_NODE': '1',\n",
       " 'VSCODE_IPC_HOOK_CLI': '/run/user/1000/vscode-ipc-5ae4e9a6-80a3-48fa-b145-70970ce57f42.sock',\n",
       " '__TELEMETRY_CLIENT_ID': '08391c66-2ffa-4648-bea8-df39e2405570',\n",
       " 'PYTHONUNBUFFERED': '1',\n",
       " 'VIRTUAL_ENV': '/home/ec2-user/OISS/storm-events-graph/.sedvenv',\n",
       " 'PYTHONIOENCODING': 'utf-8',\n",
       " 'PS1': '(.sedvenv) ',\n",
       " 'PYDEVD_IPYTHON_COMPATIBLE_DEBUGGING': '1',\n",
       " 'PYTHON_FROZEN_MODULES': 'on',\n",
       " 'PYDEVD_USE_FRAME_EVAL': 'NO',\n",
       " 'TERM': 'xterm-color',\n",
       " 'CLICOLOR': '1',\n",
       " 'FORCE_COLOR': '1',\n",
       " 'CLICOLOR_FORCE': '1',\n",
       " 'PAGER': 'cat',\n",
       " 'GIT_PAGER': 'cat',\n",
       " 'MPLBACKEND': 'module://matplotlib_inline.backend_inline',\n",
       " 'OISS_PREFIX': 'sandbox',\n",
       " 'SPARQL_HOST': 'https://nccf-dev-sandbox-neptune.cluster-cd6wdbu8nvt0.us-east-1.neptune.amazonaws.com',\n",
       " 'SPARQL_PORT': '8182',\n",
       " 'NEPTUNE_READ_ENDPOINT': 'https://nccf-dev-sandbox-neptune.cluster-cd6wdbu8nvt0.us-east-1.neptune.amazonaws.com #nccf-dev-sandbox-neptune.cluster-ro-cd6wdbu8nvt0.us-east-1.neptune.amazonaws.com',\n",
       " 'AWS_REGION': 'us-east-1',\n",
       " 'RDF_BUCKET_NAME': 'nccf-sandbox-archive-triplestore-us-east-1-188772587448',\n",
       " 'DEPLOY_BUCKET': 'nccf-sandbox-archive-workspace-us-east-1-188772587448',\n",
       " 'LD_LIBRARY_PATH': '/usr/local/lib',\n",
       " 'ARC_CONFIG_FILE': 'my_install.yml',\n",
       " 'AWS_DEFAULT_REGION': 'us-east-1'}"
      ]
     },
     "execution_count": 49,
     "metadata": {},
     "output_type": "execute_result"
    }
   ],
   "source": [
    "%env OISS_PREFIX=sandbox\n",
    "%env SPARQL_HOST=https://nccf-dev-sandbox-neptune.cluster-cd6wdbu8nvt0.us-east-1.neptune.amazonaws.com\n",
    "%env SPARQL_PORT=8182\n",
    "%env NEPTUNE_READ_ENDPOINT=https://nccf-dev-sandbox-neptune.cluster-cd6wdbu8nvt0.us-east-1.neptune.amazonaws.com #nccf-dev-sandbox-neptune.cluster-ro-cd6wdbu8nvt0.us-east-1.neptune.amazonaws.com\n",
    "%env AWS_REGION=us-east-1\n",
    "%env RDF_BUCKET_NAME=nccf-sandbox-archive-triplestore-us-east-1-188772587448\n",
    "%env DEPLOY_BUCKET=nccf-sandbox-archive-workspace-us-east-1-188772587448\n",
    "%env LD_LIBRARY_PATH=/usr/local/lib\n",
    "%env ARC_CONFIG_FILE=my_install.yml\n",
    "\n",
    "#Check if env is set\n",
    "%env"
   ]
  },
  {
   "cell_type": "markdown",
   "id": "e44c3985",
   "metadata": {},
   "source": [
    "# First: Initialize process template"
   ]
  },
  {
   "cell_type": "code",
   "execution_count": 50,
   "id": "082fc8d2",
   "metadata": {},
   "outputs": [
    {
     "data": {
      "text/plain": [
       "'Storm Events Database Model'"
      ]
     },
     "execution_count": 50,
     "metadata": {},
     "output_type": "execute_result"
    }
   ],
   "source": [
    "os.environ[\"AWS_DEFAULT_REGION\"] = \"us-east-1\"\n",
    "api_session = Session(default_session_template='sandbox-ephemeral-session')\n",
    "process_template = ProcessTemplate(api_session, purpose=\"Storm Events Database Modernization\", utility=\"Storm Event Data Modeling\", node_id=PROCESS_UUID)\n",
    "process_template.set_title(\"Storm Events Database Model\")"
   ]
  },
  {
   "cell_type": "markdown",
   "id": "6979bb85",
   "metadata": {},
   "source": [
    "# **Archival Information Unit**"
   ]
  },
  {
   "cell_type": "markdown",
   "id": "5125b1ba",
   "metadata": {},
   "source": [
    "### Step 1: Create AIU Storage Pattern"
   ]
  },
  {
   "cell_type": "code",
   "execution_count": 51,
   "id": "0b0ae6cd",
   "metadata": {},
   "outputs": [],
   "source": [
    "aiu_storage_pattern = IdentityStoragePattern(api_session, title='Storm Events Database AIU Storage Pattern')"
   ]
  },
  {
   "cell_type": "markdown",
   "id": "c5a7af56",
   "metadata": {},
   "source": [
    "### Add Preservation Information\n"
   ]
  },
  {
   "cell_type": "code",
   "execution_count": 52,
   "id": "5c8daf36",
   "metadata": {},
   "outputs": [
    {
     "name": "stdout",
     "output_type": "stream",
     "text": [
      "AIU_storage_pattern.html\n"
     ]
    },
    {
     "data": {
      "text/html": [
       "\n",
       "        <iframe\n",
       "            width=\"100%\"\n",
       "            height=\"600px\"\n",
       "            src=\"AIU_storage_pattern.html\"\n",
       "            frameborder=\"0\"\n",
       "            allowfullscreen\n",
       "            \n",
       "        ></iframe>\n",
       "        "
      ],
      "text/plain": [
       "<IPython.lib.display.IFrame at 0x7fb3e550e100>"
      ]
     },
     "execution_count": 52,
     "metadata": {},
     "output_type": "execute_result"
    }
   ],
   "source": [
    "packaging = aiu_storage_pattern.add_packaging(\"Packaging\")\n",
    "packaging_semantic = packaging.add_semantic_representation(\"packing semantic\")\n",
    "packaging_structure = packaging.add_structure_representation(\"packing structure\")\n",
    "packaging_semantic.node.addsMeaningTo.append(packaging_structure.node)\n",
    "\n",
    "description = aiu_storage_pattern.add_description(\"Storm Events Database Description\") \n",
    "description_semantic = description.add_semantic_representation(\"Description\")\n",
    "description_structure = description.add_structure_representation(\"Format\")\n",
    "\n",
    "file_content = aiu_storage_pattern.set_content(\"File\", field={\"is_link\":True}) \n",
    "file_content_semantic = file_content.add_semantic_representation(\"Description\")\n",
    "file_content_structure = file_content.add_structure_representation(\"Format\")\n",
    "\n",
    "checksum = aiu_storage_pattern.add_fixity(\"Checksum\", field={'title': \"Value\", \"is_link\":False}) \n",
    "checksum_semantic = checksum.add_semantic_representation(\"Definition\")\n",
    "checksum_structure = checksum.add_structure_representation(\"Format\")\n",
    "checksum_semantic.node.addsMeaningTo.append(checksum_structure.node)\n",
    "\n",
    "sed_reference = aiu_storage_pattern.add_reference(\"Website Reference\", field={'title': \"Value\", \"is_link\":True, 'value':'https://www.ncei.noaa.gov/pub/data/swdi/stormevents/'})\n",
    "ref_semantic = sed_reference.add_semantic_representation(\"Description\")\n",
    "ref_structure = sed_reference.add_structure_representation(\"Format\")\n",
    "ref_semantic.node.addsMeaningTo.append(ref_structure.node)\n",
    "\n",
    "csv_reference = aiu_storage_pattern.add_reference(\"Data Reference\", field={'title': \"Value\", \"is_link\":True, 'value':'https://www.ncei.noaa.gov/pub/data/swdi/stormevents/csvfiles/'})\n",
    "ref_semantic = csv_reference.add_semantic_representation(\"Description\")\n",
    "ref_structure = csv_reference.add_structure_representation(\"Format\")\n",
    "ref_semantic.node.addsMeaningTo.append(ref_structure.node)\n",
    "\n",
    "access_rights = aiu_storage_pattern.add_access_rights(\"License\") \n",
    "access_rights_semantic = access_rights.add_semantic_representation(\"License semantic\")\n",
    "access_rights_structure = access_rights.add_structure_representation(\"License structure\")\n",
    "\n",
    "context = aiu_storage_pattern.add_context(\"Provider\")\n",
    "context_semantic = context.add_semantic_representation(\"context semantic\")\n",
    "context_structure = context.add_structure_representation(\"context structure\")\n",
    "context_semantic.node.addsMeaningTo.append(context_structure.node)\n",
    "\n",
    "aiu_storage_pattern.visualize().show(\"AIU_storage_pattern.html\")"
   ]
  },
  {
   "cell_type": "code",
   "execution_count": 53,
   "id": "dfa1d166",
   "metadata": {},
   "outputs": [],
   "source": [
    "# validationreport = aiu_storage_pattern.validate()\n",
    "# print(validationreport.message)"
   ]
  },
  {
   "cell_type": "markdown",
   "id": "0554e348",
   "metadata": {},
   "source": [
    "### Step 2: Create AIU Storage Template"
   ]
  },
  {
   "cell_type": "code",
   "execution_count": 54,
   "id": "2aeb7d08",
   "metadata": {},
   "outputs": [
    {
     "name": "stdout",
     "output_type": "stream",
     "text": [
      "AIU_storage_template.html\n"
     ]
    },
    {
     "data": {
      "text/html": [
       "\n",
       "        <iframe\n",
       "            width=\"100%\"\n",
       "            height=\"600px\"\n",
       "            src=\"AIU_storage_template.html\"\n",
       "            frameborder=\"0\"\n",
       "            allowfullscreen\n",
       "            \n",
       "        ></iframe>\n",
       "        "
      ],
      "text/plain": [
       "<IPython.lib.display.IFrame at 0x7fb3e550e190>"
      ]
     },
     "execution_count": 54,
     "metadata": {},
     "output_type": "execute_result"
    }
   ],
   "source": [
    "aiu_storage_template = IdentityStorageTemplate(api_session, source_pattern=aiu_storage_pattern, node_id=SED_AIU_UUID)\n",
    "aiu_storage_template.set_title(\"Storm Events Database AIU storage template\")\n",
    "# aiu_storage_template.deploy(overwrite=True)\n",
    "\n",
    "# aiu_storage_template.validate()\n",
    "# aiu_storage_template.get_fields()\n",
    "aiu_storage_template.visualize().show(\"AIU_storage_template.html\")"
   ]
  },
  {
   "cell_type": "markdown",
   "id": "c929d8cd",
   "metadata": {},
   "source": [
    "### Step 4: Create AIU Task Template"
   ]
  },
  {
   "cell_type": "code",
   "execution_count": 55,
   "id": "2ac52949",
   "metadata": {},
   "outputs": [
    {
     "name": "stdout",
     "output_type": "stream",
     "text": [
      "AIU_task_template.html\n"
     ]
    },
    {
     "data": {
      "text/html": [
       "\n",
       "        <iframe\n",
       "            width=\"100%\"\n",
       "            height=\"600px\"\n",
       "            src=\"AIU_task_template.html\"\n",
       "            frameborder=\"0\"\n",
       "            allowfullscreen\n",
       "            \n",
       "        ></iframe>\n",
       "        "
      ],
      "text/plain": [
       "<IPython.lib.display.IFrame at 0x7fb3e54783d0>"
      ]
     },
     "execution_count": 55,
     "metadata": {},
     "output_type": "execute_result"
    }
   ],
   "source": [
    "aiu_task_template = IdentityTaskTemplate(api_session, purpose=\"example\", utility=\"Store Storm Events Database CSV file in s3 Bucket\")\n",
    "aiu_task_template.set_target(aiu_storage_template)\n",
    "aiu_task_template.set_title('Storm Events Database AIU Task Template')\n",
    "process_template.set_aiu_task(aiu_task_template)\n",
    "\n",
    "# aiu_task_template.validate()\n",
    "aiu_task_template.get_fields()\n",
    "aiu_task_template.visualize().show(\"AIU_task_template.html\")"
   ]
  },
  {
   "cell_type": "markdown",
   "id": "5eb812fc",
   "metadata": {},
   "source": [
    "### Step 5: Create UBL Template (Save SED CSV to s3 bucket)"
   ]
  },
  {
   "cell_type": "code",
   "execution_count": 56,
   "id": "9bbfb926",
   "metadata": {},
   "outputs": [
    {
     "data": {
      "text/plain": [
       "{'runtime_fields': {'placeholder1': <oiss.ontologies.fmk.LiteralField at 0x7fb3e5478e50>,\n",
       "  'placeholder2': <oiss.ontologies.fmk.LiteralField at 0x7fb3e5478fa0>},\n",
       " 'resource_identifier': {'value': <oiss.ontologies.fmk.LiteralField at 0x7fb3e54785e0>},\n",
       " 'description': {'description_value': <oiss.ontologies.fmk.LiteralField at 0x7fb3e5478b50>},\n",
       " 'access_rights': {'access_rights_value': <oiss.ontologies.fmk.LiteralField at 0x7fb3e54787f0>},\n",
       " 'context': {'context_value': <oiss.ontologies.fmk.LiteralField at 0x7fb3e546b370>},\n",
       " 'fixity': {'fixity_value': <oiss.ontologies.fmk.LiteralField at 0x7fb3e546bf10>},\n",
       " 'provenance': {'provenance_value': <oiss.ontologies.fmk.LiteralField at 0x7fb3e546bbb0>},\n",
       " 'reference': {'reference_value': <oiss.ontologies.fmk.LiteralField at 0x7fb3e546b700>}}"
      ]
     },
     "execution_count": 56,
     "metadata": {},
     "output_type": "execute_result"
    }
   ],
   "source": [
    "aiu_ubl_template = UBLTemplate(api_session, namespace=aiu_task_template.namespace)\n",
    "aiu_task_template.set_ubl(aiu_ubl_template)\n",
    "aiu_ubl_template.set_packaging_field(packaging=\"Resource Identifier\", field=\"Value\", value=SED_SAVE_ARN) \n",
    "aiu_ubl_template.get_fields()"
   ]
  },
  {
   "cell_type": "markdown",
   "id": "b08111a6",
   "metadata": {},
   "source": [
    "### Step 6: Create UBL input and output fields:"
   ]
  },
  {
   "cell_type": "code",
   "execution_count": 57,
   "id": "1a806c0f",
   "metadata": {},
   "outputs": [
    {
     "name": "stdout",
     "output_type": "stream",
     "text": [
      "AIU_ubl_template.html\n"
     ]
    },
    {
     "data": {
      "text/html": [
       "\n",
       "        <iframe\n",
       "            width=\"100%\"\n",
       "            height=\"600px\"\n",
       "            src=\"AIU_ubl_template.html\"\n",
       "            frameborder=\"0\"\n",
       "            allowfullscreen\n",
       "            \n",
       "        ></iframe>\n",
       "        "
      ],
      "text/plain": [
       "<IPython.lib.display.IFrame at 0x7fb3e546b490>"
      ]
     },
     "execution_count": 57,
     "metadata": {},
     "output_type": "execute_result"
    }
   ],
   "source": [
    "aiu_ubl_template.add_input(\"input_csv_s3_uri\", is_required=True)  \n",
    "aiu_ubl_template.add_input(\"output_s3_bucket\", is_required=True) \n",
    "aiu_ubl_template.add_input(\"output_s3_key\")\n",
    "\n",
    "aiu_ubl_template.add_output(\"s3_uri\")\n",
    "aiu_ubl_template.add_output(\"checksum\")\n",
    "aiu_ubl_template.add_output(\"website_reference\")\n",
    "aiu_ubl_template.add_output(\"data_reference\")\n",
    "aiu_ubl_template.add_output(\"license\")\n",
    "aiu_ubl_template.add_output(\"provider\")\n",
    "\n",
    "aiu_ubl_template.visualize().show(\"AIU_ubl_template.html\")"
   ]
  },
  {
   "cell_type": "markdown",
   "id": "0071454f",
   "metadata": {},
   "source": [
    "### Step 7: Map AIU UBL output fields to AIU storage template fields"
   ]
  },
  {
   "cell_type": "code",
   "execution_count": 58,
   "id": "c6920e24",
   "metadata": {},
   "outputs": [
    {
     "data": {
      "text/plain": [
       "<oiss.ontology.IdentityTaskTemplate at 0x7fb3e550e9a0>"
      ]
     },
     "execution_count": 58,
     "metadata": {},
     "output_type": "execute_result"
    }
   ],
   "source": [
    "aiu_task_template.match_field(aiu_ubl_template.outputs.s3_uri, aiu_storage_template.file.file_link)\n",
    "aiu_task_template.match_field(aiu_ubl_template.outputs.checksum, aiu_storage_template.checksum.value)\n",
    "aiu_task_template.match_field(aiu_ubl_template.outputs.website_reference, aiu_storage_template.website_reference.value)\n",
    "aiu_task_template.match_field(aiu_ubl_template.outputs.data_reference, aiu_storage_template.data_reference.value)\n",
    "aiu_task_template.match_field(aiu_ubl_template.outputs.license, aiu_storage_template.license.license_value)\n",
    "aiu_task_template.match_field(aiu_ubl_template.outputs.provider, aiu_storage_template.provider.provider_value)"
   ]
  },
  {
   "cell_type": "markdown",
   "id": "e4a0d874",
   "metadata": {},
   "source": [
    "# **Archival Information Context**"
   ]
  },
  {
   "cell_type": "markdown",
   "id": "deffbcaf",
   "metadata": {},
   "source": [
    "### Step 1: Create AIC Storage Pattern"
   ]
  },
  {
   "cell_type": "code",
   "execution_count": 59,
   "id": "56039b44",
   "metadata": {},
   "outputs": [],
   "source": [
    "aic_storage_pattern = TransformationStoragePattern(api_session, \"Storm Events Database AIC Storage Pattern\", labels=[\"Storms\", \"Extreme Weather\", \"Hurricane\", \n",
    "                                                    \"Natural Disaster\", \"Cyclone\", \"Monsoon\", \"Typhoon\", \"Cyclone\", \"Supercell\"])"
   ]
  },
  {
   "cell_type": "markdown",
   "id": "369c0ead",
   "metadata": {},
   "source": [
    "### Add AIC Preservation Information"
   ]
  },
  {
   "cell_type": "code",
   "execution_count": 60,
   "id": "268191a3",
   "metadata": {},
   "outputs": [],
   "source": [
    "### Add preservation information\n",
    "\n",
    "reference = aic_storage_pattern.add_reference('SED DOI', field={'title':'Value', 'is_link': False}, labels=[\"DOI\"])\n",
    "semantic = reference.add_semantic_representation(\"Description\")\n",
    "structure = reference.add_structure_representation(\"Format\")\n",
    "semantic.node.addsMeaningTo.append(structure.node)\n",
    "\n",
    "context = aic_storage_pattern.add_context(\"SED Help Guide\", labels=[\"guidance\"])\n",
    "context.add_semantic_representation(\"Meaning\")\n",
    "context.add_structure_representation(\"Format\")\n",
    "\n",
    "data_credits = aic_storage_pattern.add_context(\"SED Data Credits\", labels=[\"data-rights\"]) ### <---------- new\n",
    "data_credits.add_semantic_representation(\"Meaning\")\n",
    "data_credits.add_structure_representation(\"Format\")\n",
    "\n",
    "author_credits = aic_storage_pattern.add_context(\"SED Author Credits\", labels=[\"contributor\"]) ### <---------- new\n",
    "author_credits.add_semantic_representation(\"Meaning\")\n",
    "author_credits.add_structure_representation(\"Format\")\n",
    "\n",
    "provenance = aic_storage_pattern.add_provenance(\"SED Provenance\", labels=[\"provenance\"])\n",
    "provenance.add_semantic_representation(\"Meaning\")\n",
    "provenance.add_structure_representation(\"Format\")\n",
    "\n",
    "packaging = aic_storage_pattern.add_packaging(\"SED Packaging\", labels=[\"packaging\"])\n",
    "packaging.add_semantic_representation(\"Packaging Strategy\")\n",
    "packaging.add_structure_representation(\"Packaging Format\")\n",
    "packaging.node.identifiesPackage.append(aic_storage_pattern.node)\n",
    "\n",
    "description = aic_storage_pattern.add_overview_description(\"SED Overview Description\", labels=[\"sed-overview\"])\n",
    "description.add_semantic_representation(\"Meaning\")\n",
    "description.add_structure_representation(\"Format\")\n",
    "\n",
    "access = aic_storage_pattern.add_access_rights(\"SED Access Rights\", labels=[\"sed-access-rights\"])\n",
    "access.add_semantic_representation(\"Meaning\")\n",
    "access.add_structure_representation(\"Format\") \n",
    "\n",
    "checksum = aic_storage_pattern.add_fixity(\"SED Checksum\", field={'title':'Value', 'is_link':False}, labels=['sed-checksum'])\n",
    "checksum_semantic = checksum.add_semantic_representation(\"Definition\")\n",
    "checksum_structure = checksum.add_structure_representation(\"Format\")\n",
    "checksum_semantic.node.addsMeaningTo.append(checksum_structure.node)\n",
    "\n",
    "file_content = aic_storage_pattern.set_content(\"SED Members\", field={'is_link': True, 'value':'https://www.ncdc.noaa.gov/stormevents/'}, labels=['sed-members'])\n",
    "file_content.add_value_field(\"Pattern Placeholder\")\n",
    "file_semantic = file_content.add_semantic_representation(\"SED Description\")\n",
    "file_structure = file_content.add_structure_representation(\"Format\")\n",
    "file_semantic.node.addsMeaningTo.append(file_structure.node)"
   ]
  },
  {
   "cell_type": "markdown",
   "id": "12d30088",
   "metadata": {},
   "source": [
    "### Add SED member description\n"
   ]
  },
  {
   "cell_type": "code",
   "execution_count": 61,
   "id": "6741e8c5",
   "metadata": {},
   "outputs": [],
   "source": [
    "main_sed_graph = aic_storage_pattern.add_member_description(\"storm_events_database_member_description\")\n",
    "structure = main_sed_graph.add_structure_representation(\"Description\") \n",
    "semantic = main_sed_graph.add_semantic_representation(\"Format\")\n",
    "semantic.node.addsMeaningTo.append(structure.node)\n",
    "main_sed_graph.node.derivedFromInformationPackage.append(aic_storage_pattern.node)"
   ]
  },
  {
   "cell_type": "markdown",
   "id": "e49357b1",
   "metadata": {},
   "source": [
    "### Initialize Object Entities: Storm Event"
   ]
  },
  {
   "cell_type": "code",
   "execution_count": 62,
   "id": "a24a6ddc",
   "metadata": {},
   "outputs": [
    {
     "data": {
      "text/plain": [
       "<oiss.ontologies.fmk.StatementField at 0x7fb3e549ca00>"
      ]
     },
     "execution_count": 62,
     "metadata": {},
     "output_type": "execute_result"
    }
   ],
   "source": [
    "storm_event = main_sed_graph.add_object(\"storm_event\", namespace=\"http://www.w3.org/2001/XMLSchema#\", namespace_class='location')\n",
    "\n",
    "storm_event_name = storm_event.add_literal(\"name\", labels=[\"name\"])\n",
    "storm_event.connect(storm_event_name, title=\"hasName\", namespace=\"https://schema.org/\", namespace_class = \"name\")\n",
    "\n",
    "storm_event_type = storm_event.add_literal(\"type\", labels=[\"type\"])\n",
    "storm_event.connect(storm_event_type, title=\"hasType\", namespace=\"https://schema.org/\", namespace_class = \"type\")\n",
    "\n",
    "storm_event_magnitude = storm_event.add_literal(\"magnitude\", labels=[\"magnitude\"])\n",
    "storm_event.connect(storm_event_magnitude, title=\"hasMagnitude\", namespace=\"https://schema.org/\", namespace_class = \"magnitude\")\n",
    "\n",
    "storm_event_id = storm_event.add_literal('event_id', labels=[\"id\"])\n",
    "storm_event.connect(storm_event_id, title=\"hasId\", namespace=\"https://schema.org/\", namespace_class=\"id\")\n",
    "\n",
    "property_damage = storm_event.add_literal('property_damage', namespace='http://www.w3.org/2001/XMLSchema#', namespace_class=\"int\")\n",
    "storm_event.connect(property_damage, title=\"hasDamage\", namespace=\"https://schema.org/\", namespace_class=\"damage\")\n",
    "\n",
    "storm_event_state = storm_event.add_literal(\"state\", labels=[\"state\"])\n",
    "storm_event.connect(storm_event_state, title='hasState', namespace=\"https://schema.org/\", namespace_class=\"state\")\n",
    "\n",
    "storm_event_year = storm_event.add_literal(\"year\", labels=[\"year\"])\n",
    "storm_event.connect(storm_event_year, title=\"hasYear\", namespace=\"https://schema.org/\", namespace_class=\"year\")\n",
    "\n",
    "storm_event_month = storm_event.add_literal(\"month_name\", labels=[\"month\"])\n",
    "storm_event.connect(storm_event_month, title=\"hasMonth\", namespace=\"https://schema.org/\", namespace_class=\"month\")\n",
    "\n",
    "storm_event_narrative = storm_event.add_literal(\"event_narrative\", labels=[\"narrative\"])\n",
    "storm_event.connect(storm_event_narrative, title=\"hasNarrative\", namespace=\"https://schema.org/\", namespace_class=\"narrative\")"
   ]
  },
  {
   "cell_type": "markdown",
   "id": "b205a104",
   "metadata": {},
   "source": [
    "### Initialize Object Entities: WFO"
   ]
  },
  {
   "cell_type": "code",
   "execution_count": 63,
   "id": "22f12b1a",
   "metadata": {},
   "outputs": [
    {
     "data": {
      "text/plain": [
       "<oiss.ontologies.fmk.StatementField at 0x7fb3e5467f40>"
      ]
     },
     "execution_count": 63,
     "metadata": {},
     "output_type": "execute_result"
    }
   ],
   "source": [
    "weatherForecastOffice = main_sed_graph.add_object(\"weather_forecast_office\", namespace=\"http://www.w3.org/2001/XMLSchema#\", namespace_class='string')\n",
    "\n",
    "office_name = weatherForecastOffice.add_literal(\"name\", namespace_class=\"string\")\n",
    "weatherForecastOffice.connect(office_name, title=\"hasName\", namespace=\"https://schema.org/\", namespace_class=\"name\")\n",
    "\n",
    "office_class = weatherForecastOffice.add_literal(\"class\", namespace_class=\"string\")\n",
    "weatherForecastOffice.connect(office_name, title=\"hasClass\", namespace=\"https://schema.org/\", namespace_class=\"class\")\n",
    "\n",
    "office_region = weatherForecastOffice.add_literal(\"region\", namespace_class=\"string\")\n",
    "weatherForecastOffice.connect(office_name, title=\"hasRegion\", namespace=\"https://schema.org/\", namespace_class=\"region\")\n",
    "\n",
    "office_id = weatherForecastOffice.add_literal(\"office_id\", namespace_class=\"string\")\n",
    "weatherForecastOffice.connect(office_id, title='hasId', namespace=\"https://schema.org/\", namespace_class=\"id\")\n",
    "\n",
    "office_state = weatherForecastOffice.add_literal(\"state\", labels=[\"state\"])\n",
    "weatherForecastOffice.connect(office_state, title='hasState', namespace=\"https://schema.org/\", namespace_class=\"state\")\n",
    "\n",
    "office_statefips = weatherForecastOffice.add_literal(\"state_fips\", labels=[\"state fips\"])\n",
    "weatherForecastOffice.connect(office_statefips, title='hasFips', namespace=\"https://schema.org/\", namespace_class=\"state fips\")\n",
    "\n",
    "office_timezone = weatherForecastOffice.add_literal(\"timezone\", labels=[\"timezone\"])\n",
    "weatherForecastOffice.connect(office_timezone, title='hasTimezone', namespace=\"https://schema.org/\", namespace_class=\"timezone\")"
   ]
  },
  {
   "cell_type": "markdown",
   "id": "edbcab54",
   "metadata": {},
   "source": [
    "### Initialize Object Entities: Storm_episode"
   ]
  },
  {
   "cell_type": "code",
   "execution_count": 64,
   "id": "9ac9fa52",
   "metadata": {},
   "outputs": [
    {
     "data": {
      "text/plain": [
       "<oiss.ontologies.fmk.StatementField at 0x7fb3e549f640>"
      ]
     },
     "execution_count": 64,
     "metadata": {},
     "output_type": "execute_result"
    }
   ],
   "source": [
    "storm_episode = main_sed_graph.add_object(\"Storm Episode\", namespace=\"http://www.w3.org/2001/XMLSchema#\", namespace_class='Location') \n",
    "\n",
    "storm_episode_name = storm_episode.add_literal(\"Episode name\")\n",
    "storm_episode.connect(storm_episode_name, title=\"hasName\", namespace=\"https://schema.org/\", namespace_class=\"name\")\n",
    "\n",
    "storm_episode_type = storm_episode.add_literal(\"Episode type\", namespace_class=\"string\")\n",
    "storm_episode.connect(storm_episode_type, title=\"hasType\", namespace=\"https://schema.org/\", namespace_class=\"type\")\n",
    "\n",
    "storm_episode_magnitude = storm_episode.add_literal(\"magnitude\", namespace_class=\"int\")\n",
    "storm_episode.connect(storm_episode_magnitude, title=\"hasMagnitude\", namespace=\"https://schema.org/\", namespace_class=\"magnitude\")"
   ]
  },
  {
   "cell_type": "markdown",
   "id": "962330ad",
   "metadata": {},
   "source": [
    "### Initialize Object Entities: Location"
   ]
  },
  {
   "cell_type": "code",
   "execution_count": 65,
   "id": "0b899408",
   "metadata": {},
   "outputs": [
    {
     "data": {
      "text/plain": [
       "<oiss.ontologies.fmk.StatementField at 0x7fb3e548dd60>"
      ]
     },
     "execution_count": 65,
     "metadata": {},
     "output_type": "execute_result"
    }
   ],
   "source": [
    "location = main_sed_graph.add_object(\"Location\", namespace=\"http://www.w3.org/2001/XMLSchema#\", namespace_class='Location')\n",
    "\n",
    "location_name = location.add_literal(\"name\", namespace_class=\"string\")\n",
    "location.connect(location_name, title=\"hasName\", namespace=\"https://schema.org/\", namespace_class=\"name\")\n",
    "\n",
    "location_type = location.add_literal(\"type\", namespace_class=\"string\") \n",
    "location.connect(location_type, title=\"hasType\", namespace=\"https://schema.org/\", namespace_class=\"type\")\n",
    "\n",
    "location_lat = location.add_literal(\"Latitude\", namespace_class='int')\n",
    "location.connect(location_lat, title=\"hasLat\", namespace=\"https://schema.org/\", namespace_class=\"latitude\")\n",
    "\n",
    "location_lon = location.add_literal(\"Longitude\", namespace_class='int')\n",
    "location.connect(location_lon, title=\"hasLon\", namespace=\"https://schema.org/\", namespace_class=\"longitude\")\n",
    "\n",
    "location_county = location.add_literal(\"County\", namespace_class='int')\n",
    "location.connect(location_county, title=\"hasCounty\", namespace=\"https://schema.org/\", namespace_class=\"county\")"
   ]
  },
  {
   "cell_type": "markdown",
   "id": "20c2d52a",
   "metadata": {},
   "source": [
    "### Initialize Object Entities: Socioeconomic impact"
   ]
  },
  {
   "cell_type": "code",
   "execution_count": 66,
   "id": "8dee59aa",
   "metadata": {},
   "outputs": [
    {
     "data": {
      "text/plain": [
       "<oiss.ontologies.fmk.StatementField at 0x7fb3e54a1700>"
      ]
     },
     "execution_count": 66,
     "metadata": {},
     "output_type": "execute_result"
    }
   ],
   "source": [
    "impact = main_sed_graph.add_object(\"Socioeconomic Impact\", namespace=\"http://www.w3.org/2001/XMLSchema#\", namespace_class='Location')\n",
    "\n",
    "impact_type = impact.add_literal(\"type\", namespace_class=\"string\") \n",
    "impact.connect(impact_type, title=\"hasType\", namespace=\"https://schema.org/\", namespace_class=\"type\")\n",
    "\n",
    "impact_casualties = impact.add_literal(\"casualties\", namespace_class=\"int\") \n",
    "impact.connect(impact_casualties, title=\"hasCasualties\", namespace=\"https://schema.org/\", namespace_class=\"casualties\")\n",
    "\n",
    "impact_economic = impact.add_literal(\"economic\", namespace_class=\"int\") \n",
    "impact.connect(impact_economic, title=\"hasEconomic\", namespace=\"https://schema.org/\", namespace_class=\"economic\")"
   ]
  },
  {
   "cell_type": "code",
   "execution_count": 67,
   "id": "d86fcb3f",
   "metadata": {},
   "outputs": [
    {
     "data": {
      "text/plain": [
       "<oiss.ontologies.fmk.StatementField at 0x7fb3e54a1550>"
      ]
     },
     "execution_count": 67,
     "metadata": {},
     "output_type": "execute_result"
    }
   ],
   "source": [
    "storm_event.connect(weatherForecastOffice, title=\"hasForecastOffice\", namespace=\"https://schema.org/\", namespace_class=\"office\")\n",
    "storm_event.connect(impact, title=\"hasDamage\", namespace=\"https://schema.org/\", namespace_class=\"damage\")\n",
    "storm_event.connect(location, title=\"hasLocation\", namespace=\"https://schema.org/\", namespace_class=\"location\")\n",
    "location.connect(impact, title=\"hasImpact\", namespace=\"https://schema.org/\", namespace_class=\"impact\")\n",
    "\n",
    "# aic_storage_pattern.visualize().show(\"Test_AIC_Storage_Pattern.html\")\n",
    "# main_sed_graph.visualize(notebook = False, hierarchical= True, isCDNRemote= True, uml=True).show(\"Test_AIC_memberdescription1.html\", notebook = False)\n",
    "# main_sed_graph.visualize().show(\"Test_AIC_memberdescription2.html\")\n",
    "# aic_storage_template.visualize().show(\"AIC_storage_pattern.html\")"
   ]
  },
  {
   "cell_type": "markdown",
   "id": "dff3dbd0",
   "metadata": {},
   "source": [
    "### Step 2: Create AIC Storage Template"
   ]
  },
  {
   "cell_type": "code",
   "execution_count": 68,
   "id": "c0bb0ddd",
   "metadata": {},
   "outputs": [
    {
     "name": "stdout",
     "output_type": "stream",
     "text": [
      "AIC_storage_template.html\n"
     ]
    },
    {
     "data": {
      "text/html": [
       "\n",
       "        <iframe\n",
       "            width=\"100%\"\n",
       "            height=\"600px\"\n",
       "            src=\"AIC_storage_template.html\"\n",
       "            frameborder=\"0\"\n",
       "            allowfullscreen\n",
       "            \n",
       "        ></iframe>\n",
       "        "
      ],
      "text/plain": [
       "<IPython.lib.display.IFrame at 0x7fb3e59917f0>"
      ]
     },
     "execution_count": 68,
     "metadata": {},
     "output_type": "execute_result"
    }
   ],
   "source": [
    "aic_storage_template = TransformationStorageTemplate(api_session, source_pattern=aic_storage_pattern, node_id=SED_AIC_UUID)\n",
    "aic_storage_template.set_title(\"Storm Events Database AIC Storage Template\")\n",
    "# aic_storage_template.deploy(overwrite=True)\n",
    "\n",
    "# aiu_storage_template.validate()\n",
    "aiu_storage_template.visualize().show(\"AIC_storage_template.html\")"
   ]
  },
  {
   "cell_type": "markdown",
   "id": "1ea3a736",
   "metadata": {},
   "source": [
    "## The purpose of the code below is to provide context to the architecture of our member description and its associated fields"
   ]
  },
  {
   "cell_type": "code",
   "execution_count": 69,
   "id": "fe505027",
   "metadata": {},
   "outputs": [
    {
     "data": {
      "text/plain": [
       "{<oiss.ontologies.aic_entity.MemberDescriptionPattern at 0x7fb3e548df10>}"
      ]
     },
     "execution_count": 69,
     "metadata": {},
     "output_type": "execute_result"
    }
   ],
   "source": [
    "aic_storage_pattern.member_descriptions"
   ]
  },
  {
   "cell_type": "code",
   "execution_count": 70,
   "id": "8bafe13d",
   "metadata": {},
   "outputs": [
    {
     "name": "stdout",
     "output_type": "stream",
     "text": [
      "Storm Events Database AIC Storage Pattern\n"
     ]
    }
   ],
   "source": [
    "print(aic_storage_pattern.get_title())"
   ]
  },
  {
   "cell_type": "code",
   "execution_count": 71,
   "id": "5ce3e966",
   "metadata": {},
   "outputs": [
    {
     "name": "stdout",
     "output_type": "stream",
     "text": [
      "Storm Events Database AIC Storage Template\n"
     ]
    },
    {
     "data": {
      "text/plain": [
       "[<oiss.ontologies.info_obj.InformationObject at 0x7fb3e5494f10>,\n",
       " <oiss.ontologies.info_obj.InformationObject at 0x7fb3e549b910>,\n",
       " <oiss.ontologies.info_obj.InformationObject at 0x7fb3e549b9d0>,\n",
       " <oiss.ontologies.info_obj.InformationObject at 0x7fb3e548de50>,\n",
       " <oiss.ontologies.info_obj.InformationObject at 0x7fb3e549ffd0>,\n",
       " <oiss.ontologies.info_obj.InformationObject at 0x7fb3e549ff70>,\n",
       " <oiss.ontologies.info_obj.InformationObject at 0x7fb3e549c5e0>,\n",
       " <oiss.ontologies.info_obj.InformationObject at 0x7fb3e53bc220>,\n",
       " <oiss.ontologies.info_obj.InformationObject at 0x7fb3e53bc580>,\n",
       " <oiss.ontologies.info_obj.InformationObject at 0x7fb3e53bc8e0>]"
      ]
     },
     "execution_count": 71,
     "metadata": {},
     "output_type": "execute_result"
    }
   ],
   "source": [
    "print(aic_storage_template.get_title())\n",
    "aic_storage_template.information_objects"
   ]
  },
  {
   "cell_type": "code",
   "execution_count": 72,
   "id": "6380ccd6",
   "metadata": {},
   "outputs": [
    {
     "data": {
      "text/plain": [
       "[<oiss.ontologies.fmk.StatementField at 0x7fb3e5494220>,\n",
       " <oiss.ontologies.fmk.LiteralField at 0x7fb3e5494250>,\n",
       " <oiss.ontologies.fmk.StatementField at 0x7fb3e5494280>,\n",
       " <oiss.ontologies.fmk.PropertyField at 0x7fb3e54942e0>,\n",
       " <oiss.ontologies.fmk.ObjectField at 0x7fb3e5494370>,\n",
       " <oiss.ontologies.fmk.PropertyField at 0x7fb3e549c370>,\n",
       " <oiss.ontologies.fmk.PropertyField at 0x7fb3e54943a0>,\n",
       " <oiss.ontologies.fmk.PropertyField at 0x7fb3e54943d0>,\n",
       " <oiss.ontologies.fmk.LiteralField at 0x7fb3e549c3d0>,\n",
       " <oiss.ontologies.fmk.StatementField at 0x7fb3e549c400>,\n",
       " <oiss.ontologies.fmk.PropertyField at 0x7fb3e5494430>,\n",
       " <oiss.ontologies.fmk.LiteralField at 0x7fb3e5494460>,\n",
       " <oiss.ontologies.fmk.PropertyField at 0x7fb3e549c460>,\n",
       " <oiss.ontologies.fmk.LiteralField at 0x7fb3e549c4c0>,\n",
       " <oiss.ontologies.fmk.PropertyField at 0x7fb3e54944c0>,\n",
       " <oiss.ontologies.fmk.StatementField at 0x7fb3e54944f0>,\n",
       " <oiss.ontologies.fmk.StatementField at 0x7fb3e5494580>,\n",
       " <oiss.ontologies.fmk.PropertyField at 0x7fb3e548dfd0>,\n",
       " <oiss.ontologies.fmk.LiteralField at 0x7fb3e5494640>,\n",
       " <oiss.ontologies.fmk.StatementField at 0x7fb3e54946a0>,\n",
       " <oiss.ontologies.fmk.LiteralField at 0x7fb3e54946d0>,\n",
       " <oiss.ontologies.fmk.StatementField at 0x7fb3e549c730>,\n",
       " <oiss.ontologies.fmk.StatementField at 0x7fb3e5494730>,\n",
       " <oiss.ontologies.fmk.PropertyField at 0x7fb3e5494790>,\n",
       " <oiss.ontologies.fmk.StatementField at 0x7fb3e54947c0>,\n",
       " <oiss.ontologies.fmk.StatementField at 0x7fb3e549c7f0>,\n",
       " <oiss.ontologies.fmk.PropertyField at 0x7fb3e549c880>,\n",
       " <oiss.ontologies.fmk.StatementField at 0x7fb3e5494880>,\n",
       " <oiss.ontologies.fmk.PropertyField at 0x7fb3e54948b0>,\n",
       " <oiss.ontologies.fmk.StatementField at 0x7fb3e5494910>,\n",
       " <oiss.ontologies.fmk.StatementField at 0x7fb3e549c9d0>,\n",
       " <oiss.ontologies.fmk.StatementField at 0x7fb3e549ca00>,\n",
       " <oiss.ontologies.fmk.StatementField at 0x7fb3e5494a00>,\n",
       " <oiss.ontologies.fmk.StatementField at 0x7fb3e5494a30>,\n",
       " <oiss.ontologies.fmk.LiteralField at 0x7fb3e549ca60>,\n",
       " <oiss.ontologies.fmk.PropertyField at 0x7fb3e5494a90>,\n",
       " <oiss.ontologies.fmk.LiteralField at 0x7fb3e5494ac0>,\n",
       " <oiss.ontologies.fmk.StatementField at 0x7fb3e5494af0>,\n",
       " <oiss.ontologies.fmk.LiteralField at 0x7fb3e5494b50>,\n",
       " <oiss.ontologies.fmk.ObjectField at 0x7fb3e549cb80>,\n",
       " <oiss.ontologies.fmk.LiteralField at 0x7fb3e5494bb0>,\n",
       " <oiss.ontologies.fmk.StatementField at 0x7fb3e549bfa0>,\n",
       " <oiss.ontologies.fmk.PropertyField at 0x7fb3e5494dc0>,\n",
       " <oiss.ontologies.fmk.PropertyField at 0x7fb3e549b0a0>,\n",
       " <oiss.ontologies.fmk.StatementField at 0x7fb3e549b0d0>,\n",
       " <oiss.ontologies.fmk.PropertyField at 0x7fb3e549b130>,\n",
       " <oiss.ontologies.fmk.StatementField at 0x7fb3e549b190>,\n",
       " <oiss.ontologies.fmk.LiteralField at 0x7fb3e549b1c0>,\n",
       " <oiss.ontologies.fmk.PropertyField at 0x7fb3e54a11c0>,\n",
       " <oiss.ontologies.fmk.PropertyField at 0x7fb3e554f1f0>,\n",
       " <oiss.ontologies.fmk.LiteralField at 0x7fb3e548d1f0>,\n",
       " <oiss.ontologies.fmk.StatementField at 0x7fb3e549b220>,\n",
       " <oiss.ontologies.fmk.StatementField at 0x7fb3e548d250>,\n",
       " <oiss.ontologies.fmk.LiteralField at 0x7fb3e548d280>,\n",
       " <oiss.ontologies.fmk.PropertyField at 0x7fb3e549b2b0>,\n",
       " <oiss.ontologies.fmk.StatementField at 0x7fb3e549b2e0>,\n",
       " <oiss.ontologies.fmk.StatementField at 0x7fb3e54a12e0>,\n",
       " <oiss.ontologies.fmk.LiteralField at 0x7fb3e549b340>,\n",
       " <oiss.ontologies.fmk.PropertyField at 0x7fb3e548d370>,\n",
       " <oiss.ontologies.fmk.StatementField at 0x7fb3e549b3a0>,\n",
       " <oiss.ontologies.fmk.StatementField at 0x7fb3e54a1400>,\n",
       " <oiss.ontologies.fmk.PropertyField at 0x7fb3e549b430>,\n",
       " <oiss.ontologies.fmk.StatementField at 0x7fb3e54a1430>,\n",
       " <oiss.ontologies.fmk.StatementField at 0x7fb3e549b460>,\n",
       " <oiss.ontologies.fmk.LiteralField at 0x7fb3e549b4c0>,\n",
       " <oiss.ontologies.fmk.StatementField at 0x7fb3e549b520>,\n",
       " <oiss.ontologies.fmk.StatementField at 0x7fb3e548d550>,\n",
       " <oiss.ontologies.fmk.StatementField at 0x7fb3e54a1550>,\n",
       " <oiss.ontologies.fmk.ObjectField at 0x7fb3e548d5b0>,\n",
       " <oiss.ontologies.fmk.StatementField at 0x7fb3e549b5e0>,\n",
       " <oiss.ontologies.fmk.PropertyField at 0x7fb3e548d5e0>,\n",
       " <oiss.ontologies.fmk.LiteralField at 0x7fb3e549b640>,\n",
       " <oiss.ontologies.fmk.StatementField at 0x7fb3e549f640>,\n",
       " <oiss.ontologies.fmk.LiteralField at 0x7fb3e549f670>,\n",
       " <oiss.ontologies.fmk.StatementField at 0x7fb3e548d670>,\n",
       " <oiss.ontologies.fmk.PropertyField at 0x7fb3e549b6a0>,\n",
       " <oiss.ontologies.fmk.StatementField at 0x7fb3e549b6d0>,\n",
       " <oiss.ontologies.fmk.StatementField at 0x7fb3e5467700>,\n",
       " <oiss.ontologies.fmk.StatementField at 0x7fb3e549f700>,\n",
       " <oiss.ontologies.fmk.StatementField at 0x7fb3e54a1700>,\n",
       " <oiss.ontologies.fmk.PropertyField at 0x7fb3e549b760>,\n",
       " <oiss.ontologies.fmk.PropertyField at 0x7fb3e549f760>,\n",
       " <oiss.ontologies.fmk.StatementField at 0x7fb3e54a1760>,\n",
       " <oiss.ontologies.fmk.StatementField at 0x7fb3e549b790>,\n",
       " <oiss.ontologies.fmk.StatementField at 0x7fb3e549f7c0>,\n",
       " <oiss.ontologies.fmk.LiteralField at 0x7fb3e54a17c0>,\n",
       " <oiss.ontologies.fmk.LiteralField at 0x7fb3e549b7f0>,\n",
       " <oiss.ontologies.fmk.StatementField at 0x7fb3e549f7f0>,\n",
       " <oiss.ontologies.fmk.StatementField at 0x7fb3e549b850>,\n",
       " <oiss.ontologies.fmk.StatementField at 0x7fb3e548d8b0>,\n",
       " <oiss.ontologies.fmk.LiteralField at 0x7fb3e548d8e0>,\n",
       " <oiss.ontologies.fmk.StatementField at 0x7fb3e54a1910>,\n",
       " <oiss.ontologies.fmk.StatementField at 0x7fb3e548d940>,\n",
       " <oiss.ontologies.fmk.LiteralField at 0x7fb3e54a19d0>,\n",
       " <oiss.ontologies.fmk.LiteralField at 0x7fb3e54a1a30>,\n",
       " <oiss.ontologies.fmk.PropertyField at 0x7fb3e54a1a60>,\n",
       " <oiss.ontologies.fmk.StatementField at 0x7fb3e54a1ac0>,\n",
       " <oiss.ontologies.fmk.PropertyField at 0x7fb3e54a1af0>,\n",
       " <oiss.ontologies.fmk.LiteralField at 0x7fb3e549fb20>,\n",
       " <oiss.ontologies.fmk.PropertyField at 0x7fb3e54a1b80>,\n",
       " <oiss.ontologies.fmk.StatementField at 0x7fb3e548db80>,\n",
       " <oiss.ontologies.fmk.ObjectField at 0x7fb3e54a1bb0>,\n",
       " <oiss.ontologies.fmk.LiteralField at 0x7fb3e54a1be0>,\n",
       " <oiss.ontologies.fmk.StatementField at 0x7fb3e54a1c10>,\n",
       " <oiss.ontologies.fmk.StatementField at 0x7fb3e549fcd0>,\n",
       " <oiss.ontologies.fmk.StatementField at 0x7fb3e54a1cd0>,\n",
       " <oiss.ontologies.fmk.PropertyField at 0x7fb3e54a1d00>,\n",
       " <oiss.ontologies.fmk.StatementField at 0x7fb3e548dd60>,\n",
       " <oiss.ontologies.fmk.LiteralField at 0x7fb3e54a1d90>,\n",
       " <oiss.ontologies.fmk.LiteralField at 0x7fb3e548ddc0>,\n",
       " <oiss.ontologies.fmk.StatementField at 0x7fb3e549fdf0>,\n",
       " <oiss.ontologies.fmk.PropertyField at 0x7fb3e54b9df0>,\n",
       " <oiss.ontologies.fmk.PropertyField at 0x7fb3e549fe50>,\n",
       " <oiss.ontologies.fmk.StatementField at 0x7fb3e54a1e50>,\n",
       " <oiss.ontologies.fmk.LiteralField at 0x7fb3e549fe80>,\n",
       " <oiss.ontologies.fmk.PropertyField at 0x7fb3e54a1e80>,\n",
       " <oiss.ontologies.fmk.ObjectField at 0x7fb3e549ff10>,\n",
       " <oiss.ontologies.fmk.PropertyField at 0x7fb3e54a1f10>,\n",
       " <oiss.ontologies.fmk.StatementField at 0x7fb3e5467f40>,\n",
       " <oiss.ontologies.fmk.StatementField at 0x7fb3e548df40>,\n",
       " <oiss.ontologies.fmk.StatementField at 0x7fb3e548dfa0>,\n",
       " <oiss.ontologies.fmk.StatementField at 0x7fb3e54a1fd0>]"
      ]
     },
     "execution_count": 72,
     "metadata": {},
     "output_type": "execute_result"
    }
   ],
   "source": [
    "member_Desc = list(aic_storage_pattern.member_descriptions)[0]\n",
    "# print(member_Desc.get_title())\n",
    "fields = list(member_Desc.fields)\n",
    "fields"
   ]
  },
  {
   "cell_type": "code",
   "execution_count": 73,
   "id": "ec240055",
   "metadata": {},
   "outputs": [],
   "source": [
    "from collections import defaultdict\n",
    "\n",
    "populated_dictionary = {}\n",
    "literal_dictionary = {}\n",
    "statement_dictionary = {}\n",
    "property_dictionary = {}\n",
    "object_dictionary = {}\n",
    "\n",
    "for field_a in fields:\n",
    "    \n",
    "    if True:\n",
    "\n",
    "        populated_dictionary[field_a.get_title()] = field_a.__class__.__name__\n",
    "        \n",
    "        grouped = defaultdict(list)\n",
    "        for k, v in populated_dictionary.items():\n",
    "            grouped[v].append(k)\n",
    "\n",
    "        max_length = max(len(keys) for keys in grouped.values())\n",
    "\n",
    "        data = {}\n",
    "        for value, keys in grouped.items():\n",
    "            keys = keys + [None] * (max_length - len(keys))\n",
    "            data[value] = keys\n",
    "\n",
    "        df = pd.DataFrame(data)\n",
    "\n",
    "    if field_a.__class__.__name__ == \"LiteralField\":\n",
    "\n",
    "        literal_dictionary[field_a.get_title()] = field_a.__class__.__name__\n",
    "        literal_df = pd.DataFrame.from_dict(literal_dictionary, orient='index', columns=['Field Type'])\n",
    "\n",
    "    elif field_a.__class__.__name__ == \"StatementField\":\n",
    "\n",
    "        statement_dictionary[field_a.get_title()] = field_a.__class__.__name__\n",
    "        statement_df = pd.DataFrame.from_dict(statement_dictionary, orient='index', columns=['Field Type'])\n",
    "\n",
    "    elif field_a.__class__.__name__ == \"PropertyField\":\n",
    "        property_dictionary[field_a.get_title()] = field_a.__class__.__name__\n",
    "        property_df = pd.DataFrame.from_dict(property_dictionary, orient='index', columns=['Field Type'])\n",
    "\n",
    "    else:\n",
    "        object_dictionary[field_a.get_title()] = field_a.__class__.__name__\n",
    "        object_df = pd.DataFrame.from_dict(object_dictionary, orient='index', columns=['Field Type'])"
   ]
  },
  {
   "cell_type": "code",
   "execution_count": 74,
   "id": "7ff30e5c",
   "metadata": {},
   "outputs": [
    {
     "data": {
      "text/html": [
       "<div>\n",
       "<style scoped>\n",
       "    .dataframe tbody tr th:only-of-type {\n",
       "        vertical-align: middle;\n",
       "    }\n",
       "\n",
       "    .dataframe tbody tr th {\n",
       "        vertical-align: top;\n",
       "    }\n",
       "\n",
       "    .dataframe thead th {\n",
       "        text-align: right;\n",
       "    }\n",
       "</style>\n",
       "<table border=\"1\" class=\"dataframe\">\n",
       "  <thead>\n",
       "    <tr style=\"text-align: right;\">\n",
       "      <th></th>\n",
       "      <th>StatementField</th>\n",
       "      <th>LiteralField</th>\n",
       "      <th>PropertyField</th>\n",
       "      <th>ObjectField</th>\n",
       "    </tr>\n",
       "  </thead>\n",
       "  <tbody>\n",
       "    <tr>\n",
       "      <th>0</th>\n",
       "      <td>Socioeconomic Impact hasType type</td>\n",
       "      <td>name</td>\n",
       "      <td>hasProperty</td>\n",
       "      <td>storm_event</td>\n",
       "    </tr>\n",
       "    <tr>\n",
       "      <th>1</th>\n",
       "      <td>storm_event hasProperty name</td>\n",
       "      <td>type</td>\n",
       "      <td>hasClass</td>\n",
       "      <td>weather_forecast_office</td>\n",
       "    </tr>\n",
       "    <tr>\n",
       "      <th>2</th>\n",
       "      <td>weather_forecast_office hasProperty name</td>\n",
       "      <td>class</td>\n",
       "      <td>hasType</td>\n",
       "      <td>Socioeconomic Impact</td>\n",
       "    </tr>\n",
       "    <tr>\n",
       "      <th>3</th>\n",
       "      <td>storm_event hasName name</td>\n",
       "      <td>magnitude</td>\n",
       "      <td>hasName</td>\n",
       "      <td>Location</td>\n",
       "    </tr>\n",
       "    <tr>\n",
       "      <th>4</th>\n",
       "      <td>storm_event hasProperty type</td>\n",
       "      <td>timezone</td>\n",
       "      <td>hasRegion</td>\n",
       "      <td>Storm Episode</td>\n",
       "    </tr>\n",
       "    <tr>\n",
       "      <th>5</th>\n",
       "      <td>weather_forecast_office hasFips state_fips</td>\n",
       "      <td>event_narrative</td>\n",
       "      <td>hasCasualties</td>\n",
       "      <td>None</td>\n",
       "    </tr>\n",
       "    <tr>\n",
       "      <th>6</th>\n",
       "      <td>weather_forecast_office hasName name</td>\n",
       "      <td>state_fips</td>\n",
       "      <td>hasTimezone</td>\n",
       "      <td>None</td>\n",
       "    </tr>\n",
       "    <tr>\n",
       "      <th>7</th>\n",
       "      <td>weather_forecast_office hasState state</td>\n",
       "      <td>state</td>\n",
       "      <td>hasNarrative</td>\n",
       "      <td>None</td>\n",
       "    </tr>\n",
       "    <tr>\n",
       "      <th>8</th>\n",
       "      <td>weather_forecast_office hasProperty state_fips</td>\n",
       "      <td>office_id</td>\n",
       "      <td>hasFips</td>\n",
       "      <td>None</td>\n",
       "    </tr>\n",
       "    <tr>\n",
       "      <th>9</th>\n",
       "      <td>storm_event hasMonth month_name</td>\n",
       "      <td>event_id</td>\n",
       "      <td>hasState</td>\n",
       "      <td>None</td>\n",
       "    </tr>\n",
       "    <tr>\n",
       "      <th>10</th>\n",
       "      <td>weather_forecast_office hasProperty state</td>\n",
       "      <td>casualties</td>\n",
       "      <td>hasId</td>\n",
       "      <td>None</td>\n",
       "    </tr>\n",
       "    <tr>\n",
       "      <th>11</th>\n",
       "      <td>weather_forecast_office hasId office_id</td>\n",
       "      <td>property_damage</td>\n",
       "      <td>hasMagnitude</td>\n",
       "      <td>None</td>\n",
       "    </tr>\n",
       "    <tr>\n",
       "      <th>12</th>\n",
       "      <td>storm_event hasProperty event_narrative</td>\n",
       "      <td>year</td>\n",
       "      <td>hasImpact</td>\n",
       "      <td>None</td>\n",
       "    </tr>\n",
       "    <tr>\n",
       "      <th>13</th>\n",
       "      <td>storm_event hasNarrative event_narrative</td>\n",
       "      <td>economic</td>\n",
       "      <td>hasDamage</td>\n",
       "      <td>None</td>\n",
       "    </tr>\n",
       "    <tr>\n",
       "      <th>14</th>\n",
       "      <td>weather_forecast_office hasProperty region</td>\n",
       "      <td>month_name</td>\n",
       "      <td>hasCounty</td>\n",
       "      <td>None</td>\n",
       "    </tr>\n",
       "    <tr>\n",
       "      <th>15</th>\n",
       "      <td>weather_forecast_office hasProperty office_id</td>\n",
       "      <td>region</td>\n",
       "      <td>hasLon</td>\n",
       "      <td>None</td>\n",
       "    </tr>\n",
       "    <tr>\n",
       "      <th>16</th>\n",
       "      <td>weather_forecast_office hasRegion name</td>\n",
       "      <td>Longitude</td>\n",
       "      <td>hasYear</td>\n",
       "      <td>None</td>\n",
       "    </tr>\n",
       "    <tr>\n",
       "      <th>17</th>\n",
       "      <td>storm_event hasProperty month_name</td>\n",
       "      <td>Latitude</td>\n",
       "      <td>hasMonth</td>\n",
       "      <td>None</td>\n",
       "    </tr>\n",
       "    <tr>\n",
       "      <th>18</th>\n",
       "      <td>storm_event hasType type</td>\n",
       "      <td>Episode type</td>\n",
       "      <td>hasLocation</td>\n",
       "      <td>None</td>\n",
       "    </tr>\n",
       "    <tr>\n",
       "      <th>19</th>\n",
       "      <td>storm_event hasProperty magnitude</td>\n",
       "      <td>County</td>\n",
       "      <td>hasForecastOffice</td>\n",
       "      <td>None</td>\n",
       "    </tr>\n",
       "    <tr>\n",
       "      <th>20</th>\n",
       "      <td>storm_event hasMagnitude magnitude</td>\n",
       "      <td>Episode name</td>\n",
       "      <td>hasEconomic</td>\n",
       "      <td>None</td>\n",
       "    </tr>\n",
       "    <tr>\n",
       "      <th>21</th>\n",
       "      <td>weather_forecast_office hasProperty class</td>\n",
       "      <td>None</td>\n",
       "      <td>hasLat</td>\n",
       "      <td>None</td>\n",
       "    </tr>\n",
       "    <tr>\n",
       "      <th>22</th>\n",
       "      <td>storm_event hasProperty event_id</td>\n",
       "      <td>None</td>\n",
       "      <td>None</td>\n",
       "      <td>None</td>\n",
       "    </tr>\n",
       "    <tr>\n",
       "      <th>23</th>\n",
       "      <td>storm_event hasLocation Location</td>\n",
       "      <td>None</td>\n",
       "      <td>None</td>\n",
       "      <td>None</td>\n",
       "    </tr>\n",
       "    <tr>\n",
       "      <th>24</th>\n",
       "      <td>storm_event hasId event_id</td>\n",
       "      <td>None</td>\n",
       "      <td>None</td>\n",
       "      <td>None</td>\n",
       "    </tr>\n",
       "    <tr>\n",
       "      <th>25</th>\n",
       "      <td>Socioeconomic Impact hasCasualties casualties</td>\n",
       "      <td>None</td>\n",
       "      <td>None</td>\n",
       "      <td>None</td>\n",
       "    </tr>\n",
       "    <tr>\n",
       "      <th>26</th>\n",
       "      <td>storm_event hasDamage Socioeconomic Impact</td>\n",
       "      <td>None</td>\n",
       "      <td>None</td>\n",
       "      <td>None</td>\n",
       "    </tr>\n",
       "    <tr>\n",
       "      <th>27</th>\n",
       "      <td>storm_event hasProperty property_damage</td>\n",
       "      <td>None</td>\n",
       "      <td>None</td>\n",
       "      <td>None</td>\n",
       "    </tr>\n",
       "    <tr>\n",
       "      <th>28</th>\n",
       "      <td>storm_event hasDamage property_damage</td>\n",
       "      <td>None</td>\n",
       "      <td>None</td>\n",
       "      <td>None</td>\n",
       "    </tr>\n",
       "    <tr>\n",
       "      <th>29</th>\n",
       "      <td>Location hasProperty Longitude</td>\n",
       "      <td>None</td>\n",
       "      <td>None</td>\n",
       "      <td>None</td>\n",
       "    </tr>\n",
       "    <tr>\n",
       "      <th>30</th>\n",
       "      <td>Location hasImpact Socioeconomic Impact</td>\n",
       "      <td>None</td>\n",
       "      <td>None</td>\n",
       "      <td>None</td>\n",
       "    </tr>\n",
       "    <tr>\n",
       "      <th>31</th>\n",
       "      <td>storm_event hasProperty state</td>\n",
       "      <td>None</td>\n",
       "      <td>None</td>\n",
       "      <td>None</td>\n",
       "    </tr>\n",
       "    <tr>\n",
       "      <th>32</th>\n",
       "      <td>Storm Episode hasMagnitude magnitude</td>\n",
       "      <td>None</td>\n",
       "      <td>None</td>\n",
       "      <td>None</td>\n",
       "    </tr>\n",
       "    <tr>\n",
       "      <th>33</th>\n",
       "      <td>Location hasProperty County</td>\n",
       "      <td>None</td>\n",
       "      <td>None</td>\n",
       "      <td>None</td>\n",
       "    </tr>\n",
       "    <tr>\n",
       "      <th>34</th>\n",
       "      <td>storm_event hasState state</td>\n",
       "      <td>None</td>\n",
       "      <td>None</td>\n",
       "      <td>None</td>\n",
       "    </tr>\n",
       "    <tr>\n",
       "      <th>35</th>\n",
       "      <td>weather_forecast_office hasProperty timezone</td>\n",
       "      <td>None</td>\n",
       "      <td>None</td>\n",
       "      <td>None</td>\n",
       "    </tr>\n",
       "    <tr>\n",
       "      <th>36</th>\n",
       "      <td>Storm Episode hasType Episode type</td>\n",
       "      <td>None</td>\n",
       "      <td>None</td>\n",
       "      <td>None</td>\n",
       "    </tr>\n",
       "    <tr>\n",
       "      <th>37</th>\n",
       "      <td>Socioeconomic Impact hasEconomic economic</td>\n",
       "      <td>None</td>\n",
       "      <td>None</td>\n",
       "      <td>None</td>\n",
       "    </tr>\n",
       "    <tr>\n",
       "      <th>38</th>\n",
       "      <td>Location hasProperty Latitude</td>\n",
       "      <td>None</td>\n",
       "      <td>None</td>\n",
       "      <td>None</td>\n",
       "    </tr>\n",
       "    <tr>\n",
       "      <th>39</th>\n",
       "      <td>storm_event hasProperty year</td>\n",
       "      <td>None</td>\n",
       "      <td>None</td>\n",
       "      <td>None</td>\n",
       "    </tr>\n",
       "    <tr>\n",
       "      <th>40</th>\n",
       "      <td>Storm Episode hasProperty Episode type</td>\n",
       "      <td>None</td>\n",
       "      <td>None</td>\n",
       "      <td>None</td>\n",
       "    </tr>\n",
       "    <tr>\n",
       "      <th>41</th>\n",
       "      <td>Storm Episode hasProperty magnitude</td>\n",
       "      <td>None</td>\n",
       "      <td>None</td>\n",
       "      <td>None</td>\n",
       "    </tr>\n",
       "    <tr>\n",
       "      <th>42</th>\n",
       "      <td>storm_event hasYear year</td>\n",
       "      <td>None</td>\n",
       "      <td>None</td>\n",
       "      <td>None</td>\n",
       "    </tr>\n",
       "    <tr>\n",
       "      <th>43</th>\n",
       "      <td>Location hasLon Longitude</td>\n",
       "      <td>None</td>\n",
       "      <td>None</td>\n",
       "      <td>None</td>\n",
       "    </tr>\n",
       "    <tr>\n",
       "      <th>44</th>\n",
       "      <td>Location hasType type</td>\n",
       "      <td>None</td>\n",
       "      <td>None</td>\n",
       "      <td>None</td>\n",
       "    </tr>\n",
       "    <tr>\n",
       "      <th>45</th>\n",
       "      <td>Socioeconomic Impact hasProperty casualties</td>\n",
       "      <td>None</td>\n",
       "      <td>None</td>\n",
       "      <td>None</td>\n",
       "    </tr>\n",
       "    <tr>\n",
       "      <th>46</th>\n",
       "      <td>Location hasProperty type</td>\n",
       "      <td>None</td>\n",
       "      <td>None</td>\n",
       "      <td>None</td>\n",
       "    </tr>\n",
       "    <tr>\n",
       "      <th>47</th>\n",
       "      <td>Socioeconomic Impact hasProperty type</td>\n",
       "      <td>None</td>\n",
       "      <td>None</td>\n",
       "      <td>None</td>\n",
       "    </tr>\n",
       "    <tr>\n",
       "      <th>48</th>\n",
       "      <td>storm_event hasForecastOffice weather_forecast...</td>\n",
       "      <td>None</td>\n",
       "      <td>None</td>\n",
       "      <td>None</td>\n",
       "    </tr>\n",
       "    <tr>\n",
       "      <th>49</th>\n",
       "      <td>Storm Episode hasName Episode name</td>\n",
       "      <td>None</td>\n",
       "      <td>None</td>\n",
       "      <td>None</td>\n",
       "    </tr>\n",
       "    <tr>\n",
       "      <th>50</th>\n",
       "      <td>Location hasProperty name</td>\n",
       "      <td>None</td>\n",
       "      <td>None</td>\n",
       "      <td>None</td>\n",
       "    </tr>\n",
       "    <tr>\n",
       "      <th>51</th>\n",
       "      <td>Location hasCounty County</td>\n",
       "      <td>None</td>\n",
       "      <td>None</td>\n",
       "      <td>None</td>\n",
       "    </tr>\n",
       "    <tr>\n",
       "      <th>52</th>\n",
       "      <td>Storm Episode hasProperty Episode name</td>\n",
       "      <td>None</td>\n",
       "      <td>None</td>\n",
       "      <td>None</td>\n",
       "    </tr>\n",
       "    <tr>\n",
       "      <th>53</th>\n",
       "      <td>Socioeconomic Impact hasProperty economic</td>\n",
       "      <td>None</td>\n",
       "      <td>None</td>\n",
       "      <td>None</td>\n",
       "    </tr>\n",
       "    <tr>\n",
       "      <th>54</th>\n",
       "      <td>weather_forecast_office hasTimezone timezone</td>\n",
       "      <td>None</td>\n",
       "      <td>None</td>\n",
       "      <td>None</td>\n",
       "    </tr>\n",
       "    <tr>\n",
       "      <th>55</th>\n",
       "      <td>Location hasLat Latitude</td>\n",
       "      <td>None</td>\n",
       "      <td>None</td>\n",
       "      <td>None</td>\n",
       "    </tr>\n",
       "    <tr>\n",
       "      <th>56</th>\n",
       "      <td>weather_forecast_office hasClass name</td>\n",
       "      <td>None</td>\n",
       "      <td>None</td>\n",
       "      <td>None</td>\n",
       "    </tr>\n",
       "    <tr>\n",
       "      <th>57</th>\n",
       "      <td>Location hasName name</td>\n",
       "      <td>None</td>\n",
       "      <td>None</td>\n",
       "      <td>None</td>\n",
       "    </tr>\n",
       "  </tbody>\n",
       "</table>\n",
       "</div>"
      ],
      "text/plain": [
       "                                       StatementField     LiteralField  \\\n",
       "0                   Socioeconomic Impact hasType type             name   \n",
       "1                        storm_event hasProperty name             type   \n",
       "2            weather_forecast_office hasProperty name            class   \n",
       "3                            storm_event hasName name        magnitude   \n",
       "4                        storm_event hasProperty type         timezone   \n",
       "5          weather_forecast_office hasFips state_fips  event_narrative   \n",
       "6                weather_forecast_office hasName name       state_fips   \n",
       "7              weather_forecast_office hasState state            state   \n",
       "8      weather_forecast_office hasProperty state_fips        office_id   \n",
       "9                     storm_event hasMonth month_name         event_id   \n",
       "10          weather_forecast_office hasProperty state       casualties   \n",
       "11            weather_forecast_office hasId office_id  property_damage   \n",
       "12            storm_event hasProperty event_narrative             year   \n",
       "13           storm_event hasNarrative event_narrative         economic   \n",
       "14         weather_forecast_office hasProperty region       month_name   \n",
       "15      weather_forecast_office hasProperty office_id           region   \n",
       "16             weather_forecast_office hasRegion name        Longitude   \n",
       "17                 storm_event hasProperty month_name         Latitude   \n",
       "18                           storm_event hasType type     Episode type   \n",
       "19                  storm_event hasProperty magnitude           County   \n",
       "20                 storm_event hasMagnitude magnitude     Episode name   \n",
       "21          weather_forecast_office hasProperty class             None   \n",
       "22                   storm_event hasProperty event_id             None   \n",
       "23                   storm_event hasLocation Location             None   \n",
       "24                         storm_event hasId event_id             None   \n",
       "25      Socioeconomic Impact hasCasualties casualties             None   \n",
       "26         storm_event hasDamage Socioeconomic Impact             None   \n",
       "27            storm_event hasProperty property_damage             None   \n",
       "28              storm_event hasDamage property_damage             None   \n",
       "29                     Location hasProperty Longitude             None   \n",
       "30            Location hasImpact Socioeconomic Impact             None   \n",
       "31                      storm_event hasProperty state             None   \n",
       "32               Storm Episode hasMagnitude magnitude             None   \n",
       "33                        Location hasProperty County             None   \n",
       "34                         storm_event hasState state             None   \n",
       "35       weather_forecast_office hasProperty timezone             None   \n",
       "36                 Storm Episode hasType Episode type             None   \n",
       "37          Socioeconomic Impact hasEconomic economic             None   \n",
       "38                      Location hasProperty Latitude             None   \n",
       "39                       storm_event hasProperty year             None   \n",
       "40             Storm Episode hasProperty Episode type             None   \n",
       "41                Storm Episode hasProperty magnitude             None   \n",
       "42                           storm_event hasYear year             None   \n",
       "43                          Location hasLon Longitude             None   \n",
       "44                              Location hasType type             None   \n",
       "45        Socioeconomic Impact hasProperty casualties             None   \n",
       "46                          Location hasProperty type             None   \n",
       "47              Socioeconomic Impact hasProperty type             None   \n",
       "48  storm_event hasForecastOffice weather_forecast...             None   \n",
       "49                 Storm Episode hasName Episode name             None   \n",
       "50                          Location hasProperty name             None   \n",
       "51                          Location hasCounty County             None   \n",
       "52             Storm Episode hasProperty Episode name             None   \n",
       "53          Socioeconomic Impact hasProperty economic             None   \n",
       "54       weather_forecast_office hasTimezone timezone             None   \n",
       "55                           Location hasLat Latitude             None   \n",
       "56              weather_forecast_office hasClass name             None   \n",
       "57                              Location hasName name             None   \n",
       "\n",
       "        PropertyField              ObjectField  \n",
       "0         hasProperty              storm_event  \n",
       "1            hasClass  weather_forecast_office  \n",
       "2             hasType     Socioeconomic Impact  \n",
       "3             hasName                 Location  \n",
       "4           hasRegion            Storm Episode  \n",
       "5       hasCasualties                     None  \n",
       "6         hasTimezone                     None  \n",
       "7        hasNarrative                     None  \n",
       "8             hasFips                     None  \n",
       "9            hasState                     None  \n",
       "10              hasId                     None  \n",
       "11       hasMagnitude                     None  \n",
       "12          hasImpact                     None  \n",
       "13          hasDamage                     None  \n",
       "14          hasCounty                     None  \n",
       "15             hasLon                     None  \n",
       "16            hasYear                     None  \n",
       "17           hasMonth                     None  \n",
       "18        hasLocation                     None  \n",
       "19  hasForecastOffice                     None  \n",
       "20        hasEconomic                     None  \n",
       "21             hasLat                     None  \n",
       "22               None                     None  \n",
       "23               None                     None  \n",
       "24               None                     None  \n",
       "25               None                     None  \n",
       "26               None                     None  \n",
       "27               None                     None  \n",
       "28               None                     None  \n",
       "29               None                     None  \n",
       "30               None                     None  \n",
       "31               None                     None  \n",
       "32               None                     None  \n",
       "33               None                     None  \n",
       "34               None                     None  \n",
       "35               None                     None  \n",
       "36               None                     None  \n",
       "37               None                     None  \n",
       "38               None                     None  \n",
       "39               None                     None  \n",
       "40               None                     None  \n",
       "41               None                     None  \n",
       "42               None                     None  \n",
       "43               None                     None  \n",
       "44               None                     None  \n",
       "45               None                     None  \n",
       "46               None                     None  \n",
       "47               None                     None  \n",
       "48               None                     None  \n",
       "49               None                     None  \n",
       "50               None                     None  \n",
       "51               None                     None  \n",
       "52               None                     None  \n",
       "53               None                     None  \n",
       "54               None                     None  \n",
       "55               None                     None  \n",
       "56               None                     None  \n",
       "57               None                     None  "
      ]
     },
     "execution_count": 74,
     "metadata": {},
     "output_type": "execute_result"
    }
   ],
   "source": [
    "df"
   ]
  },
  {
   "cell_type": "code",
   "execution_count": 75,
   "id": "ef552e03",
   "metadata": {},
   "outputs": [
    {
     "data": {
      "text/html": [
       "<div>\n",
       "<style scoped>\n",
       "    .dataframe tbody tr th:only-of-type {\n",
       "        vertical-align: middle;\n",
       "    }\n",
       "\n",
       "    .dataframe tbody tr th {\n",
       "        vertical-align: top;\n",
       "    }\n",
       "\n",
       "    .dataframe thead th {\n",
       "        text-align: right;\n",
       "    }\n",
       "</style>\n",
       "<table border=\"1\" class=\"dataframe\">\n",
       "  <thead>\n",
       "    <tr style=\"text-align: right;\">\n",
       "      <th></th>\n",
       "      <th>Field Type</th>\n",
       "    </tr>\n",
       "  </thead>\n",
       "  <tbody>\n",
       "    <tr>\n",
       "      <th>storm_event</th>\n",
       "      <td>ObjectField</td>\n",
       "    </tr>\n",
       "    <tr>\n",
       "      <th>weather_forecast_office</th>\n",
       "      <td>ObjectField</td>\n",
       "    </tr>\n",
       "    <tr>\n",
       "      <th>Socioeconomic Impact</th>\n",
       "      <td>ObjectField</td>\n",
       "    </tr>\n",
       "    <tr>\n",
       "      <th>Location</th>\n",
       "      <td>ObjectField</td>\n",
       "    </tr>\n",
       "    <tr>\n",
       "      <th>Storm Episode</th>\n",
       "      <td>ObjectField</td>\n",
       "    </tr>\n",
       "  </tbody>\n",
       "</table>\n",
       "</div>"
      ],
      "text/plain": [
       "                          Field Type\n",
       "storm_event              ObjectField\n",
       "weather_forecast_office  ObjectField\n",
       "Socioeconomic Impact     ObjectField\n",
       "Location                 ObjectField\n",
       "Storm Episode            ObjectField"
      ]
     },
     "execution_count": 75,
     "metadata": {},
     "output_type": "execute_result"
    }
   ],
   "source": [
    "object_df"
   ]
  },
  {
   "cell_type": "code",
   "execution_count": 76,
   "id": "93eb7cf3",
   "metadata": {},
   "outputs": [
    {
     "data": {
      "text/html": [
       "<div>\n",
       "<style scoped>\n",
       "    .dataframe tbody tr th:only-of-type {\n",
       "        vertical-align: middle;\n",
       "    }\n",
       "\n",
       "    .dataframe tbody tr th {\n",
       "        vertical-align: top;\n",
       "    }\n",
       "\n",
       "    .dataframe thead th {\n",
       "        text-align: right;\n",
       "    }\n",
       "</style>\n",
       "<table border=\"1\" class=\"dataframe\">\n",
       "  <thead>\n",
       "    <tr style=\"text-align: right;\">\n",
       "      <th></th>\n",
       "      <th>Field Type</th>\n",
       "    </tr>\n",
       "  </thead>\n",
       "  <tbody>\n",
       "    <tr>\n",
       "      <th>name</th>\n",
       "      <td>LiteralField</td>\n",
       "    </tr>\n",
       "    <tr>\n",
       "      <th>type</th>\n",
       "      <td>LiteralField</td>\n",
       "    </tr>\n",
       "    <tr>\n",
       "      <th>class</th>\n",
       "      <td>LiteralField</td>\n",
       "    </tr>\n",
       "    <tr>\n",
       "      <th>magnitude</th>\n",
       "      <td>LiteralField</td>\n",
       "    </tr>\n",
       "    <tr>\n",
       "      <th>timezone</th>\n",
       "      <td>LiteralField</td>\n",
       "    </tr>\n",
       "    <tr>\n",
       "      <th>event_narrative</th>\n",
       "      <td>LiteralField</td>\n",
       "    </tr>\n",
       "    <tr>\n",
       "      <th>state_fips</th>\n",
       "      <td>LiteralField</td>\n",
       "    </tr>\n",
       "    <tr>\n",
       "      <th>state</th>\n",
       "      <td>LiteralField</td>\n",
       "    </tr>\n",
       "    <tr>\n",
       "      <th>office_id</th>\n",
       "      <td>LiteralField</td>\n",
       "    </tr>\n",
       "    <tr>\n",
       "      <th>event_id</th>\n",
       "      <td>LiteralField</td>\n",
       "    </tr>\n",
       "    <tr>\n",
       "      <th>casualties</th>\n",
       "      <td>LiteralField</td>\n",
       "    </tr>\n",
       "    <tr>\n",
       "      <th>property_damage</th>\n",
       "      <td>LiteralField</td>\n",
       "    </tr>\n",
       "    <tr>\n",
       "      <th>year</th>\n",
       "      <td>LiteralField</td>\n",
       "    </tr>\n",
       "    <tr>\n",
       "      <th>economic</th>\n",
       "      <td>LiteralField</td>\n",
       "    </tr>\n",
       "    <tr>\n",
       "      <th>month_name</th>\n",
       "      <td>LiteralField</td>\n",
       "    </tr>\n",
       "    <tr>\n",
       "      <th>region</th>\n",
       "      <td>LiteralField</td>\n",
       "    </tr>\n",
       "    <tr>\n",
       "      <th>Longitude</th>\n",
       "      <td>LiteralField</td>\n",
       "    </tr>\n",
       "    <tr>\n",
       "      <th>Latitude</th>\n",
       "      <td>LiteralField</td>\n",
       "    </tr>\n",
       "    <tr>\n",
       "      <th>Episode type</th>\n",
       "      <td>LiteralField</td>\n",
       "    </tr>\n",
       "    <tr>\n",
       "      <th>County</th>\n",
       "      <td>LiteralField</td>\n",
       "    </tr>\n",
       "    <tr>\n",
       "      <th>Episode name</th>\n",
       "      <td>LiteralField</td>\n",
       "    </tr>\n",
       "  </tbody>\n",
       "</table>\n",
       "</div>"
      ],
      "text/plain": [
       "                   Field Type\n",
       "name             LiteralField\n",
       "type             LiteralField\n",
       "class            LiteralField\n",
       "magnitude        LiteralField\n",
       "timezone         LiteralField\n",
       "event_narrative  LiteralField\n",
       "state_fips       LiteralField\n",
       "state            LiteralField\n",
       "office_id        LiteralField\n",
       "event_id         LiteralField\n",
       "casualties       LiteralField\n",
       "property_damage  LiteralField\n",
       "year             LiteralField\n",
       "economic         LiteralField\n",
       "month_name       LiteralField\n",
       "region           LiteralField\n",
       "Longitude        LiteralField\n",
       "Latitude         LiteralField\n",
       "Episode type     LiteralField\n",
       "County           LiteralField\n",
       "Episode name     LiteralField"
      ]
     },
     "execution_count": 76,
     "metadata": {},
     "output_type": "execute_result"
    }
   ],
   "source": [
    "literal_df"
   ]
  },
  {
   "cell_type": "code",
   "execution_count": 77,
   "id": "739a819a",
   "metadata": {},
   "outputs": [
    {
     "data": {
      "text/html": [
       "<div>\n",
       "<style scoped>\n",
       "    .dataframe tbody tr th:only-of-type {\n",
       "        vertical-align: middle;\n",
       "    }\n",
       "\n",
       "    .dataframe tbody tr th {\n",
       "        vertical-align: top;\n",
       "    }\n",
       "\n",
       "    .dataframe thead th {\n",
       "        text-align: right;\n",
       "    }\n",
       "</style>\n",
       "<table border=\"1\" class=\"dataframe\">\n",
       "  <thead>\n",
       "    <tr style=\"text-align: right;\">\n",
       "      <th></th>\n",
       "      <th>Field Type</th>\n",
       "    </tr>\n",
       "  </thead>\n",
       "  <tbody>\n",
       "    <tr>\n",
       "      <th>hasProperty</th>\n",
       "      <td>PropertyField</td>\n",
       "    </tr>\n",
       "    <tr>\n",
       "      <th>hasClass</th>\n",
       "      <td>PropertyField</td>\n",
       "    </tr>\n",
       "    <tr>\n",
       "      <th>hasType</th>\n",
       "      <td>PropertyField</td>\n",
       "    </tr>\n",
       "    <tr>\n",
       "      <th>hasName</th>\n",
       "      <td>PropertyField</td>\n",
       "    </tr>\n",
       "    <tr>\n",
       "      <th>hasRegion</th>\n",
       "      <td>PropertyField</td>\n",
       "    </tr>\n",
       "    <tr>\n",
       "      <th>hasCasualties</th>\n",
       "      <td>PropertyField</td>\n",
       "    </tr>\n",
       "    <tr>\n",
       "      <th>hasTimezone</th>\n",
       "      <td>PropertyField</td>\n",
       "    </tr>\n",
       "    <tr>\n",
       "      <th>hasNarrative</th>\n",
       "      <td>PropertyField</td>\n",
       "    </tr>\n",
       "    <tr>\n",
       "      <th>hasFips</th>\n",
       "      <td>PropertyField</td>\n",
       "    </tr>\n",
       "    <tr>\n",
       "      <th>hasState</th>\n",
       "      <td>PropertyField</td>\n",
       "    </tr>\n",
       "    <tr>\n",
       "      <th>hasId</th>\n",
       "      <td>PropertyField</td>\n",
       "    </tr>\n",
       "    <tr>\n",
       "      <th>hasMagnitude</th>\n",
       "      <td>PropertyField</td>\n",
       "    </tr>\n",
       "    <tr>\n",
       "      <th>hasImpact</th>\n",
       "      <td>PropertyField</td>\n",
       "    </tr>\n",
       "    <tr>\n",
       "      <th>hasDamage</th>\n",
       "      <td>PropertyField</td>\n",
       "    </tr>\n",
       "    <tr>\n",
       "      <th>hasCounty</th>\n",
       "      <td>PropertyField</td>\n",
       "    </tr>\n",
       "    <tr>\n",
       "      <th>hasLon</th>\n",
       "      <td>PropertyField</td>\n",
       "    </tr>\n",
       "    <tr>\n",
       "      <th>hasYear</th>\n",
       "      <td>PropertyField</td>\n",
       "    </tr>\n",
       "    <tr>\n",
       "      <th>hasMonth</th>\n",
       "      <td>PropertyField</td>\n",
       "    </tr>\n",
       "    <tr>\n",
       "      <th>hasLocation</th>\n",
       "      <td>PropertyField</td>\n",
       "    </tr>\n",
       "    <tr>\n",
       "      <th>hasForecastOffice</th>\n",
       "      <td>PropertyField</td>\n",
       "    </tr>\n",
       "    <tr>\n",
       "      <th>hasEconomic</th>\n",
       "      <td>PropertyField</td>\n",
       "    </tr>\n",
       "    <tr>\n",
       "      <th>hasLat</th>\n",
       "      <td>PropertyField</td>\n",
       "    </tr>\n",
       "  </tbody>\n",
       "</table>\n",
       "</div>"
      ],
      "text/plain": [
       "                      Field Type\n",
       "hasProperty        PropertyField\n",
       "hasClass           PropertyField\n",
       "hasType            PropertyField\n",
       "hasName            PropertyField\n",
       "hasRegion          PropertyField\n",
       "hasCasualties      PropertyField\n",
       "hasTimezone        PropertyField\n",
       "hasNarrative       PropertyField\n",
       "hasFips            PropertyField\n",
       "hasState           PropertyField\n",
       "hasId              PropertyField\n",
       "hasMagnitude       PropertyField\n",
       "hasImpact          PropertyField\n",
       "hasDamage          PropertyField\n",
       "hasCounty          PropertyField\n",
       "hasLon             PropertyField\n",
       "hasYear            PropertyField\n",
       "hasMonth           PropertyField\n",
       "hasLocation        PropertyField\n",
       "hasForecastOffice  PropertyField\n",
       "hasEconomic        PropertyField\n",
       "hasLat             PropertyField"
      ]
     },
     "execution_count": 77,
     "metadata": {},
     "output_type": "execute_result"
    }
   ],
   "source": [
    "property_df"
   ]
  },
  {
   "cell_type": "code",
   "execution_count": 78,
   "id": "ab2773cf",
   "metadata": {},
   "outputs": [
    {
     "data": {
      "text/html": [
       "<div>\n",
       "<style scoped>\n",
       "    .dataframe tbody tr th:only-of-type {\n",
       "        vertical-align: middle;\n",
       "    }\n",
       "\n",
       "    .dataframe tbody tr th {\n",
       "        vertical-align: top;\n",
       "    }\n",
       "\n",
       "    .dataframe thead th {\n",
       "        text-align: right;\n",
       "    }\n",
       "</style>\n",
       "<table border=\"1\" class=\"dataframe\">\n",
       "  <thead>\n",
       "    <tr style=\"text-align: right;\">\n",
       "      <th></th>\n",
       "      <th>Field Type</th>\n",
       "    </tr>\n",
       "  </thead>\n",
       "  <tbody>\n",
       "    <tr>\n",
       "      <th>Socioeconomic Impact hasType type</th>\n",
       "      <td>StatementField</td>\n",
       "    </tr>\n",
       "    <tr>\n",
       "      <th>storm_event hasProperty name</th>\n",
       "      <td>StatementField</td>\n",
       "    </tr>\n",
       "    <tr>\n",
       "      <th>weather_forecast_office hasProperty name</th>\n",
       "      <td>StatementField</td>\n",
       "    </tr>\n",
       "    <tr>\n",
       "      <th>storm_event hasName name</th>\n",
       "      <td>StatementField</td>\n",
       "    </tr>\n",
       "    <tr>\n",
       "      <th>storm_event hasProperty type</th>\n",
       "      <td>StatementField</td>\n",
       "    </tr>\n",
       "    <tr>\n",
       "      <th>weather_forecast_office hasFips state_fips</th>\n",
       "      <td>StatementField</td>\n",
       "    </tr>\n",
       "    <tr>\n",
       "      <th>weather_forecast_office hasName name</th>\n",
       "      <td>StatementField</td>\n",
       "    </tr>\n",
       "    <tr>\n",
       "      <th>weather_forecast_office hasState state</th>\n",
       "      <td>StatementField</td>\n",
       "    </tr>\n",
       "    <tr>\n",
       "      <th>weather_forecast_office hasProperty state_fips</th>\n",
       "      <td>StatementField</td>\n",
       "    </tr>\n",
       "    <tr>\n",
       "      <th>storm_event hasMonth month_name</th>\n",
       "      <td>StatementField</td>\n",
       "    </tr>\n",
       "    <tr>\n",
       "      <th>weather_forecast_office hasProperty state</th>\n",
       "      <td>StatementField</td>\n",
       "    </tr>\n",
       "    <tr>\n",
       "      <th>weather_forecast_office hasId office_id</th>\n",
       "      <td>StatementField</td>\n",
       "    </tr>\n",
       "    <tr>\n",
       "      <th>storm_event hasProperty event_narrative</th>\n",
       "      <td>StatementField</td>\n",
       "    </tr>\n",
       "    <tr>\n",
       "      <th>storm_event hasNarrative event_narrative</th>\n",
       "      <td>StatementField</td>\n",
       "    </tr>\n",
       "    <tr>\n",
       "      <th>weather_forecast_office hasProperty region</th>\n",
       "      <td>StatementField</td>\n",
       "    </tr>\n",
       "    <tr>\n",
       "      <th>weather_forecast_office hasProperty office_id</th>\n",
       "      <td>StatementField</td>\n",
       "    </tr>\n",
       "    <tr>\n",
       "      <th>weather_forecast_office hasRegion name</th>\n",
       "      <td>StatementField</td>\n",
       "    </tr>\n",
       "    <tr>\n",
       "      <th>storm_event hasProperty month_name</th>\n",
       "      <td>StatementField</td>\n",
       "    </tr>\n",
       "    <tr>\n",
       "      <th>storm_event hasType type</th>\n",
       "      <td>StatementField</td>\n",
       "    </tr>\n",
       "    <tr>\n",
       "      <th>storm_event hasProperty magnitude</th>\n",
       "      <td>StatementField</td>\n",
       "    </tr>\n",
       "    <tr>\n",
       "      <th>storm_event hasMagnitude magnitude</th>\n",
       "      <td>StatementField</td>\n",
       "    </tr>\n",
       "    <tr>\n",
       "      <th>weather_forecast_office hasProperty class</th>\n",
       "      <td>StatementField</td>\n",
       "    </tr>\n",
       "    <tr>\n",
       "      <th>storm_event hasProperty event_id</th>\n",
       "      <td>StatementField</td>\n",
       "    </tr>\n",
       "    <tr>\n",
       "      <th>storm_event hasLocation Location</th>\n",
       "      <td>StatementField</td>\n",
       "    </tr>\n",
       "    <tr>\n",
       "      <th>storm_event hasId event_id</th>\n",
       "      <td>StatementField</td>\n",
       "    </tr>\n",
       "    <tr>\n",
       "      <th>Socioeconomic Impact hasCasualties casualties</th>\n",
       "      <td>StatementField</td>\n",
       "    </tr>\n",
       "    <tr>\n",
       "      <th>storm_event hasDamage Socioeconomic Impact</th>\n",
       "      <td>StatementField</td>\n",
       "    </tr>\n",
       "    <tr>\n",
       "      <th>storm_event hasProperty property_damage</th>\n",
       "      <td>StatementField</td>\n",
       "    </tr>\n",
       "    <tr>\n",
       "      <th>storm_event hasDamage property_damage</th>\n",
       "      <td>StatementField</td>\n",
       "    </tr>\n",
       "    <tr>\n",
       "      <th>Location hasProperty Longitude</th>\n",
       "      <td>StatementField</td>\n",
       "    </tr>\n",
       "    <tr>\n",
       "      <th>Location hasImpact Socioeconomic Impact</th>\n",
       "      <td>StatementField</td>\n",
       "    </tr>\n",
       "    <tr>\n",
       "      <th>storm_event hasProperty state</th>\n",
       "      <td>StatementField</td>\n",
       "    </tr>\n",
       "    <tr>\n",
       "      <th>Storm Episode hasMagnitude magnitude</th>\n",
       "      <td>StatementField</td>\n",
       "    </tr>\n",
       "    <tr>\n",
       "      <th>Location hasProperty County</th>\n",
       "      <td>StatementField</td>\n",
       "    </tr>\n",
       "    <tr>\n",
       "      <th>storm_event hasState state</th>\n",
       "      <td>StatementField</td>\n",
       "    </tr>\n",
       "    <tr>\n",
       "      <th>weather_forecast_office hasProperty timezone</th>\n",
       "      <td>StatementField</td>\n",
       "    </tr>\n",
       "    <tr>\n",
       "      <th>Storm Episode hasType Episode type</th>\n",
       "      <td>StatementField</td>\n",
       "    </tr>\n",
       "    <tr>\n",
       "      <th>Socioeconomic Impact hasEconomic economic</th>\n",
       "      <td>StatementField</td>\n",
       "    </tr>\n",
       "    <tr>\n",
       "      <th>Location hasProperty Latitude</th>\n",
       "      <td>StatementField</td>\n",
       "    </tr>\n",
       "    <tr>\n",
       "      <th>storm_event hasProperty year</th>\n",
       "      <td>StatementField</td>\n",
       "    </tr>\n",
       "    <tr>\n",
       "      <th>Storm Episode hasProperty Episode type</th>\n",
       "      <td>StatementField</td>\n",
       "    </tr>\n",
       "    <tr>\n",
       "      <th>Storm Episode hasProperty magnitude</th>\n",
       "      <td>StatementField</td>\n",
       "    </tr>\n",
       "    <tr>\n",
       "      <th>storm_event hasYear year</th>\n",
       "      <td>StatementField</td>\n",
       "    </tr>\n",
       "    <tr>\n",
       "      <th>Location hasLon Longitude</th>\n",
       "      <td>StatementField</td>\n",
       "    </tr>\n",
       "    <tr>\n",
       "      <th>Location hasType type</th>\n",
       "      <td>StatementField</td>\n",
       "    </tr>\n",
       "    <tr>\n",
       "      <th>Socioeconomic Impact hasProperty casualties</th>\n",
       "      <td>StatementField</td>\n",
       "    </tr>\n",
       "    <tr>\n",
       "      <th>Location hasProperty type</th>\n",
       "      <td>StatementField</td>\n",
       "    </tr>\n",
       "    <tr>\n",
       "      <th>Socioeconomic Impact hasProperty type</th>\n",
       "      <td>StatementField</td>\n",
       "    </tr>\n",
       "    <tr>\n",
       "      <th>storm_event hasForecastOffice weather_forecast_office</th>\n",
       "      <td>StatementField</td>\n",
       "    </tr>\n",
       "    <tr>\n",
       "      <th>Storm Episode hasName Episode name</th>\n",
       "      <td>StatementField</td>\n",
       "    </tr>\n",
       "    <tr>\n",
       "      <th>Location hasProperty name</th>\n",
       "      <td>StatementField</td>\n",
       "    </tr>\n",
       "    <tr>\n",
       "      <th>Location hasCounty County</th>\n",
       "      <td>StatementField</td>\n",
       "    </tr>\n",
       "    <tr>\n",
       "      <th>Storm Episode hasProperty Episode name</th>\n",
       "      <td>StatementField</td>\n",
       "    </tr>\n",
       "    <tr>\n",
       "      <th>Socioeconomic Impact hasProperty economic</th>\n",
       "      <td>StatementField</td>\n",
       "    </tr>\n",
       "    <tr>\n",
       "      <th>weather_forecast_office hasTimezone timezone</th>\n",
       "      <td>StatementField</td>\n",
       "    </tr>\n",
       "    <tr>\n",
       "      <th>Location hasLat Latitude</th>\n",
       "      <td>StatementField</td>\n",
       "    </tr>\n",
       "    <tr>\n",
       "      <th>weather_forecast_office hasClass name</th>\n",
       "      <td>StatementField</td>\n",
       "    </tr>\n",
       "    <tr>\n",
       "      <th>Location hasName name</th>\n",
       "      <td>StatementField</td>\n",
       "    </tr>\n",
       "  </tbody>\n",
       "</table>\n",
       "</div>"
      ],
      "text/plain": [
       "                                                        Field Type\n",
       "Socioeconomic Impact hasType type                   StatementField\n",
       "storm_event hasProperty name                        StatementField\n",
       "weather_forecast_office hasProperty name            StatementField\n",
       "storm_event hasName name                            StatementField\n",
       "storm_event hasProperty type                        StatementField\n",
       "weather_forecast_office hasFips state_fips          StatementField\n",
       "weather_forecast_office hasName name                StatementField\n",
       "weather_forecast_office hasState state              StatementField\n",
       "weather_forecast_office hasProperty state_fips      StatementField\n",
       "storm_event hasMonth month_name                     StatementField\n",
       "weather_forecast_office hasProperty state           StatementField\n",
       "weather_forecast_office hasId office_id             StatementField\n",
       "storm_event hasProperty event_narrative             StatementField\n",
       "storm_event hasNarrative event_narrative            StatementField\n",
       "weather_forecast_office hasProperty region          StatementField\n",
       "weather_forecast_office hasProperty office_id       StatementField\n",
       "weather_forecast_office hasRegion name              StatementField\n",
       "storm_event hasProperty month_name                  StatementField\n",
       "storm_event hasType type                            StatementField\n",
       "storm_event hasProperty magnitude                   StatementField\n",
       "storm_event hasMagnitude magnitude                  StatementField\n",
       "weather_forecast_office hasProperty class           StatementField\n",
       "storm_event hasProperty event_id                    StatementField\n",
       "storm_event hasLocation Location                    StatementField\n",
       "storm_event hasId event_id                          StatementField\n",
       "Socioeconomic Impact hasCasualties casualties       StatementField\n",
       "storm_event hasDamage Socioeconomic Impact          StatementField\n",
       "storm_event hasProperty property_damage             StatementField\n",
       "storm_event hasDamage property_damage               StatementField\n",
       "Location hasProperty Longitude                      StatementField\n",
       "Location hasImpact Socioeconomic Impact             StatementField\n",
       "storm_event hasProperty state                       StatementField\n",
       "Storm Episode hasMagnitude magnitude                StatementField\n",
       "Location hasProperty County                         StatementField\n",
       "storm_event hasState state                          StatementField\n",
       "weather_forecast_office hasProperty timezone        StatementField\n",
       "Storm Episode hasType Episode type                  StatementField\n",
       "Socioeconomic Impact hasEconomic economic           StatementField\n",
       "Location hasProperty Latitude                       StatementField\n",
       "storm_event hasProperty year                        StatementField\n",
       "Storm Episode hasProperty Episode type              StatementField\n",
       "Storm Episode hasProperty magnitude                 StatementField\n",
       "storm_event hasYear year                            StatementField\n",
       "Location hasLon Longitude                           StatementField\n",
       "Location hasType type                               StatementField\n",
       "Socioeconomic Impact hasProperty casualties         StatementField\n",
       "Location hasProperty type                           StatementField\n",
       "Socioeconomic Impact hasProperty type               StatementField\n",
       "storm_event hasForecastOffice weather_forecast_...  StatementField\n",
       "Storm Episode hasName Episode name                  StatementField\n",
       "Location hasProperty name                           StatementField\n",
       "Location hasCounty County                           StatementField\n",
       "Storm Episode hasProperty Episode name              StatementField\n",
       "Socioeconomic Impact hasProperty economic           StatementField\n",
       "weather_forecast_office hasTimezone timezone        StatementField\n",
       "Location hasLat Latitude                            StatementField\n",
       "weather_forecast_office hasClass name               StatementField\n",
       "Location hasName name                               StatementField"
      ]
     },
     "execution_count": 78,
     "metadata": {},
     "output_type": "execute_result"
    }
   ],
   "source": [
    "statement_df"
   ]
  },
  {
   "cell_type": "markdown",
   "id": "bfc138a0",
   "metadata": {},
   "source": [
    "## Here we are able to set the value of our object properties, but this is already done by OISS so we don't need to include it in our process"
   ]
  },
  {
   "cell_type": "code",
   "execution_count": 79,
   "id": "6fe4eeef",
   "metadata": {},
   "outputs": [],
   "source": [
    "# aic_storage_template.storm_events_database_member_description.storm_event.name.set_value(\"New Storm\")\n",
    "# aic_storage_template.storm_events_database_member_description.storm_event.type.set_value(\"Thunderstorm\")\n",
    "# aic_storage_template.storm_events_database_member_description.storm_event.month_name.set_value(\"April\")\n",
    "# aic_storage_template.storm_events_database_member_description.storm_event.year.set_value(\"2025\")\n",
    "# aic_storage_template.storm_events_database_member_description.storm_event.state.set_value(\"North Carolina\")\n",
    "# aic_storage_template.storm_events_database_member_description.storm_event.property_damage.set_value(\"x thousand U.S. dollars\")\n",
    "# aic_storage_template.storm_events_database_member_description.storm_event.event_id.set_value(\"XXXX\")\n",
    "# aic_storage_template.storm_events_database_member_description.storm_event.magnitude.set_value(\"3\")\n",
    "# aic_storage_template.storm_events_database_member_description.storm_event.event_narrative.set_value(\"A new description\")"
   ]
  },
  {
   "cell_type": "markdown",
   "id": "2e165903",
   "metadata": {},
   "source": [
    "### The code below is a work-in-progress member description filter, which is meant to filter the contents of our member description to --only-- visualize statement fields."
   ]
  },
  {
   "cell_type": "code",
   "execution_count": 80,
   "id": "d633f49e",
   "metadata": {},
   "outputs": [],
   "source": [
    "member_Desc = list(aic_storage_pattern.member_descriptions)[0]\n",
    "\n",
    "fields = list(member_Desc.fields)\n",
    "\n",
    "filtered_member_Desc = MemberDescriptionPattern(\n",
    "    api_session,\n",
    "    aic_pattern=aic_storage_pattern,  \n",
    "    title=\"Filtered Statement Fields\"\n",
    ")\n",
    "\n",
    "filtered_member_Desc.copy_from_member_description(member_Desc)\n",
    "\n",
    "for field in list(filtered_member_Desc.fields):\n",
    "    if field.__class__.__name__ != \"StatementField\":\n",
    "        filtered_member_Desc.fields.remove(field)\n",
    "\n",
    "# filtered_member_Desc.visualize().show(\"field_test.html\")"
   ]
  },
  {
   "cell_type": "markdown",
   "id": "35739b5c",
   "metadata": {},
   "source": [
    "### Step 3: Create AIC Task Template"
   ]
  },
  {
   "cell_type": "code",
   "execution_count": 81,
   "id": "3b592e4e",
   "metadata": {},
   "outputs": [
    {
     "name": "stdout",
     "output_type": "stream",
     "text": [
      "AIC_task_template.html\n"
     ]
    },
    {
     "data": {
      "text/html": [
       "\n",
       "        <iframe\n",
       "            width=\"100%\"\n",
       "            height=\"600px\"\n",
       "            src=\"AIC_task_template.html\"\n",
       "            frameborder=\"0\"\n",
       "            allowfullscreen\n",
       "            \n",
       "        ></iframe>\n",
       "        "
      ],
      "text/plain": [
       "<IPython.lib.display.IFrame at 0x7fb3e5404580>"
      ]
     },
     "execution_count": 81,
     "metadata": {},
     "output_type": "execute_result"
    }
   ],
   "source": [
    "aic_task_template = TransformationTaskTemplate(api_session, aic_template=aic_storage_template, utility=\"Read Storm Events Database CSV file from s3 Bucket\")\n",
    "aic_task_template.set_target(aic_storage_template)\n",
    "aic_task_template.set_title('Storm Events Database AIC Extraction Task Template')\n",
    "aic_task_template.set_packaging_field(packaging=\"Resource Identifier\", field=\"Value\", value=AIC_TASK_ARN)\n",
    "\n",
    "# aic_task_template.validate()\n",
    "# aic_task_template.get_fields()\n",
    "aic_task_template.visualize().show(\"AIC_task_template.html\")"
   ]
  },
  {
   "cell_type": "markdown",
   "id": "6bfb547e",
   "metadata": {},
   "source": [
    "### Step 4: Create AIC UBL Template (Read in CSV from s3 bucket and create JSON using OISS)"
   ]
  },
  {
   "cell_type": "code",
   "execution_count": 82,
   "id": "5bbe0e09",
   "metadata": {},
   "outputs": [
    {
     "name": "stdout",
     "output_type": "stream",
     "text": [
      "AIC_ubl_template.html\n"
     ]
    },
    {
     "data": {
      "text/html": [
       "\n",
       "        <iframe\n",
       "            width=\"100%\"\n",
       "            height=\"600px\"\n",
       "            src=\"AIC_ubl_template.html\"\n",
       "            frameborder=\"0\"\n",
       "            allowfullscreen\n",
       "            \n",
       "        ></iframe>\n",
       "        "
      ],
      "text/plain": [
       "<IPython.lib.display.IFrame at 0x7fb3e5e9cbb0>"
      ]
     },
     "execution_count": 82,
     "metadata": {},
     "output_type": "execute_result"
    }
   ],
   "source": [
    "aic_ubl_template = UBLTemplate(api_session, namespace=aic_task_template.namespace)\n",
    "aic_ubl_template.set_packaging_field(packaging=\"Resource Identifier\", field=\"Value\", value=SED_READ_ARN)\n",
    "aic_task_template.set_ubl(aic_ubl_template)\n",
    "\n",
    "# aic_ubl_template.get_fields()\n",
    "aic_ubl_template.visualize().show(\"AIC_ubl_template.html\")"
   ]
  },
  {
   "cell_type": "markdown",
   "id": "dc742214",
   "metadata": {},
   "source": [
    "### Step 5: Initialize AIC UBL input and output fields:"
   ]
  },
  {
   "cell_type": "code",
   "execution_count": 83,
   "id": "e8846ab1",
   "metadata": {},
   "outputs": [],
   "source": [
    "aic_ubl_template.add_input(\"Access Key\")\n",
    "aic_ubl_template.add_input(\"Access Bucket\")\n",
    "aic_ubl_template.add_input(\"Member Type\", value=\"csv\")\n",
    "aic_ubl_template.add_input(\"Destination Prefix\", value=\"\")\n",
    "aic_ubl_template.add_input(\"S3 URI\")\n",
    "\n",
    "storm_event_name = aic_ubl_template.add_output(\"storm_event_name\")\n",
    "storm_event_id = aic_ubl_template.add_output(\"storm_event_id\")\n",
    "storm_event_type = aic_ubl_template.add_output(\"storm_event_type\")\n",
    "storm_event_magnitude = aic_ubl_template.add_output(\"storm_event_magnitude\")\n",
    "storm_event_state = aic_ubl_template.add_output(\"storm_event_state\")\n",
    "storm_event_year = aic_ubl_template.add_output(\"storm_event_year\")\n",
    "storm_event_state_fips = aic_ubl_template.add_output(\"storm_event_state_fips\")\n",
    "storm_event_month_name = aic_ubl_template.add_output(\"storm_event_month_name\")\n",
    "storm_event_property_damage = aic_ubl_template.add_output(\"storm_event_property_damage\")\n",
    "storm_event_timezone = aic_ubl_template.add_output(\"storm_event_timezone\")\n",
    "storm_event_narrative = aic_ubl_template.add_output(\"storm_event_narrative\")"
   ]
  },
  {
   "cell_type": "markdown",
   "id": "480c2697",
   "metadata": {},
   "source": [
    "### Step 6: Link AIC UBL output fields to the AIC storage template fields"
   ]
  },
  {
   "cell_type": "code",
   "execution_count": 84,
   "id": "7d3cacc1",
   "metadata": {},
   "outputs": [
    {
     "data": {
      "text/plain": [
       "<oiss.ontology.TransformationTaskTemplate at 0x7fb3e549bdc0>"
      ]
     },
     "execution_count": 84,
     "metadata": {},
     "output_type": "execute_result"
    }
   ],
   "source": [
    "aic_task_template.match_field(aic_ubl_template.outputs.storm_event_name, storm_event_name)\n",
    "aic_task_template.match_field(aic_ubl_template.outputs.storm_event_id, storm_event_id)\n",
    "aic_task_template.match_field(aic_ubl_template.outputs.storm_event_type, storm_event_type)\n",
    "aic_task_template.match_field(aic_ubl_template.outputs.storm_event_magnitude, storm_event_magnitude)\n",
    "aic_task_template.match_field(aic_ubl_template.outputs.storm_event_state, storm_event_state)\n",
    "aic_task_template.match_field(aic_ubl_template.outputs.storm_event_year, storm_event_year)\n",
    "aic_task_template.match_field(aic_ubl_template.outputs.storm_event_state_fips, storm_event_state_fips)\n",
    "aic_task_template.match_field(aic_ubl_template.outputs.storm_event_month_name, storm_event_month_name)\n",
    "aic_task_template.match_field(aic_ubl_template.outputs.storm_event_property_damage, storm_event_property_damage)\n",
    "aic_task_template.match_field(aic_ubl_template.outputs.storm_event_timezone, storm_event_timezone)\n",
    "aic_task_template.match_field(aic_ubl_template.outputs.storm_event_narrative, storm_event_narrative)"
   ]
  },
  {
   "cell_type": "markdown",
   "id": "239fdaa4",
   "metadata": {},
   "source": [
    "# **Dissemination Infromation Package**"
   ]
  },
  {
   "cell_type": "markdown",
   "id": "cd6d5b2a",
   "metadata": {},
   "source": [
    "### Step 1: Create DIP Storage Pattern"
   ]
  },
  {
   "cell_type": "code",
   "execution_count": 85,
   "id": "01ac342a",
   "metadata": {},
   "outputs": [
    {
     "name": "stdout",
     "output_type": "stream",
     "text": [
      "DIP_storage_template.html\n"
     ]
    },
    {
     "data": {
      "text/html": [
       "\n",
       "        <iframe\n",
       "            width=\"100%\"\n",
       "            height=\"600px\"\n",
       "            src=\"DIP_storage_template.html\"\n",
       "            frameborder=\"0\"\n",
       "            allowfullscreen\n",
       "            \n",
       "        ></iframe>\n",
       "        "
      ],
      "text/plain": [
       "<IPython.lib.display.IFrame at 0x7fb3e5412130>"
      ]
     },
     "execution_count": 85,
     "metadata": {},
     "output_type": "execute_result"
    }
   ],
   "source": [
    "dip_storage_pattern = OutputStoragePattern(api_session, \"Storm Events Database Delivery Record\")\n",
    "response = dip_storage_pattern.set_content(\"Message\", field={\"title\":\"Value\"})\n",
    "response.add_semantic_representation(\"Message Semantic Response\")\n",
    "response.add_structure_representation(\"Message Structure Response\")\n",
    "\n",
    "dip_storage_pattern.visualize().show(\"DIP_storage_template.html\")"
   ]
  },
  {
   "cell_type": "markdown",
   "id": "e839bedc",
   "metadata": {},
   "source": [
    "### Add preservation information"
   ]
  },
  {
   "cell_type": "code",
   "execution_count": 86,
   "id": "445da86f",
   "metadata": {},
   "outputs": [
    {
     "name": "stdout",
     "output_type": "stream",
     "text": [
      "DIP_storage_pattern.html\n"
     ]
    },
    {
     "data": {
      "text/html": [
       "\n",
       "        <iframe\n",
       "            width=\"100%\"\n",
       "            height=\"600px\"\n",
       "            src=\"DIP_storage_pattern.html\"\n",
       "            frameborder=\"0\"\n",
       "            allowfullscreen\n",
       "            \n",
       "        ></iframe>\n",
       "        "
      ],
      "text/plain": [
       "<IPython.lib.display.IFrame at 0x7fb3e51e3190>"
      ]
     },
     "execution_count": 86,
     "metadata": {},
     "output_type": "execute_result"
    }
   ],
   "source": [
    "req_val = dip_storage_pattern.set_content(\"Request value\")\n",
    "req_val.add_semantic_representation(\"Request Semantic Rep\")\n",
    "req_val.add_structure_representation(\"Request Structure Rep\")\n",
    "\n",
    "resp_val = dip_storage_pattern.set_content(\"Response value\")\n",
    "resp_val.add_semantic_representation(\"Response Semantic Rep\")\n",
    "resp_val.add_structure_representation(\"Response Structure Rep\")\n",
    "\n",
    "resp_message = dip_storage_pattern.set_content(\"Response Message\")\n",
    "resp_message.add_semantic_representation(\"Response Semantic Rep\")\n",
    "resp_message.add_structure_representation(\"Response Structure Rep\")\n",
    "\n",
    "req_time = dip_storage_pattern.set_content(\"Time of request\")\n",
    "req_time.add_semantic_representation(\"Time Req Definition\")\n",
    "req_time.add_structure_representation(\"Time Req Format\")\n",
    "\n",
    "resp_time = dip_storage_pattern.set_content(\"Time of response\")\n",
    "resp_time.add_semantic_representation(\"Time Response Semantic Rep\")\n",
    "resp_time.add_structure_representation(\"Time Response Structure Rep\")\n",
    "\n",
    "dip_storage_pattern.visualize().show(\"DIP_storage_pattern.html\")"
   ]
  },
  {
   "cell_type": "markdown",
   "id": "5ffcf672",
   "metadata": {},
   "source": [
    "### Step 2: Create DIP Storage Template "
   ]
  },
  {
   "cell_type": "code",
   "execution_count": 87,
   "id": "8230307c",
   "metadata": {},
   "outputs": [
    {
     "name": "stdout",
     "output_type": "stream",
     "text": [
      "DIP_storage_template.html\n"
     ]
    },
    {
     "data": {
      "text/html": [
       "\n",
       "        <iframe\n",
       "            width=\"100%\"\n",
       "            height=\"600px\"\n",
       "            src=\"DIP_storage_template.html\"\n",
       "            frameborder=\"0\"\n",
       "            allowfullscreen\n",
       "            \n",
       "        ></iframe>\n",
       "        "
      ],
      "text/plain": [
       "<IPython.lib.display.IFrame at 0x7fb3e51acac0>"
      ]
     },
     "execution_count": 87,
     "metadata": {},
     "output_type": "execute_result"
    }
   ],
   "source": [
    "dip_storage_template = OutputStorageTemplate(api_session, source_pattern= dip_storage_pattern, node_id=SED_DIP_UUID)\n",
    "# dip_storage_template.deploy(overwrite=True)\n",
    "\n",
    "# dip_storage_template.validate()\n",
    "# dip_storage_template.get_fields()\n",
    "dip_storage_template.visualize().show('DIP_storage_template.html')"
   ]
  },
  {
   "cell_type": "markdown",
   "id": "67bf7c08",
   "metadata": {},
   "source": [
    "### Step 3: Create DIP Task Template"
   ]
  },
  {
   "cell_type": "code",
   "execution_count": 88,
   "id": "f6b9ccc5",
   "metadata": {},
   "outputs": [
    {
     "name": "stdout",
     "output_type": "stream",
     "text": [
      "DIP_task_template.html\n"
     ]
    },
    {
     "data": {
      "text/html": [
       "\n",
       "        <iframe\n",
       "            width=\"100%\"\n",
       "            height=\"600px\"\n",
       "            src=\"DIP_task_template.html\"\n",
       "            frameborder=\"0\"\n",
       "            allowfullscreen\n",
       "            \n",
       "        ></iframe>\n",
       "        "
      ],
      "text/plain": [
       "<IPython.lib.display.IFrame at 0x7fb3e543c070>"
      ]
     },
     "execution_count": 88,
     "metadata": {},
     "output_type": "execute_result"
    }
   ],
   "source": [
    "dip_task_template = OutputTaskTemplate(api_session, purpose='DIP AIC Task', utility=\"Test DIP Task template\") \n",
    "dip_task_template.set_packaging_field(packaging=\"Resource Identifier\", field=\"Value\", value=DIP_TASK_ARN)\n",
    "dip_task_template.set_target(dip_storage_template)\n",
    "\n",
    "# dip_task_template.validate()\n",
    "# dip_task_template.get_fields()\n",
    "dip_task_template.visualize().show('DIP_task_template.html')"
   ]
  },
  {
   "cell_type": "markdown",
   "id": "0ade7bb6",
   "metadata": {},
   "source": [
    "### Step 4: Create DIP UBL Template #1"
   ]
  },
  {
   "cell_type": "code",
   "execution_count": 89,
   "id": "a249496a",
   "metadata": {},
   "outputs": [
    {
     "name": "stdout",
     "output_type": "stream",
     "text": [
      "DIP_transform_ubl.html\n"
     ]
    },
    {
     "data": {
      "text/html": [
       "\n",
       "        <iframe\n",
       "            width=\"100%\"\n",
       "            height=\"600px\"\n",
       "            src=\"DIP_transform_ubl.html\"\n",
       "            frameborder=\"0\"\n",
       "            allowfullscreen\n",
       "            \n",
       "        ></iframe>\n",
       "        "
      ],
      "text/plain": [
       "<IPython.lib.display.IFrame at 0x7fb3e51accd0>"
      ]
     },
     "execution_count": 89,
     "metadata": {},
     "output_type": "execute_result"
    }
   ],
   "source": [
    "dip_transform_ubl = UBLTemplate(api_session, namespace=dip_task_template.namespace)\n",
    "dip_task_template.set_transform_data_ubl(dip_transform_ubl)\n",
    "dip_transform_ubl.set_packaging_field(packaging=\"Resource Identifier\", field=\"Value\", value=\"\")\n",
    "\n",
    "dip_transform_ubl.visualize().show(\"DIP_transform_ubl.html\")"
   ]
  },
  {
   "cell_type": "markdown",
   "id": "760dc34f",
   "metadata": {},
   "source": [
    "### Step 6: Create DIP UBL Template #2"
   ]
  },
  {
   "cell_type": "code",
   "execution_count": 90,
   "id": "42074e55",
   "metadata": {},
   "outputs": [
    {
     "name": "stdout",
     "output_type": "stream",
     "text": [
      "DIP_deliver_ubl.html\n"
     ]
    },
    {
     "data": {
      "text/html": [
       "\n",
       "        <iframe\n",
       "            width=\"100%\"\n",
       "            height=\"600px\"\n",
       "            src=\"DIP_deliver_ubl.html\"\n",
       "            frameborder=\"0\"\n",
       "            allowfullscreen\n",
       "            \n",
       "        ></iframe>\n",
       "        "
      ],
      "text/plain": [
       "<IPython.lib.display.IFrame at 0x7fb3e51df790>"
      ]
     },
     "execution_count": 90,
     "metadata": {},
     "output_type": "execute_result"
    }
   ],
   "source": [
    "dip_deliver_ubl = UBLTemplate(api_session, namespace=dip_task_template.namespace)\n",
    "dip_task_template.set_deliver_data_ubl(dip_deliver_ubl)\n",
    "dip_deliver_ubl.set_packaging_field(packaging=\"Resource Identifier\", field=\"Value\", value=\"\")\n",
    "\n",
    "dip_deliver_ubl.visualize().show(\"DIP_deliver_ubl.html\")"
   ]
  },
  {
   "cell_type": "markdown",
   "id": "509ff5a8",
   "metadata": {},
   "source": [
    "### Initialize DIP input and output fields "
   ]
  },
  {
   "cell_type": "code",
   "execution_count": 91,
   "id": "5f969191",
   "metadata": {},
   "outputs": [
    {
     "data": {
      "text/plain": [
       "<oiss.ontologies.fmk.LiteralField at 0x7fb3e544c0d0>"
      ]
     },
     "execution_count": 91,
     "metadata": {},
     "output_type": "execute_result"
    }
   ],
   "source": [
    "# dip_deliver_ubl.add_input(\"Default\")\n",
    "\n",
    "dip_deliver_ubl.add_input(\"Access Key\")\n",
    "dip_deliver_ubl.add_input(\"Access Bucket\")\n",
    "dip_deliver_ubl.add_input(\"Member Type\", value=\"csv\")\n",
    "dip_deliver_ubl.add_input(\"Destination Prefix\", value='')\n",
    "dip_deliver_ubl.add_input(\"S3 URI\")\n",
    "\n",
    "### Construct output fields \n",
    "\n",
    "dip_deliver_ubl.add_output(\"request_value\")\n",
    "dip_deliver_ubl.add_output(\"response_value\")\n",
    "dip_deliver_ubl.add_output(\"delivery_success\")\n",
    "dip_deliver_ubl.add_output(\"time_of_request\")\n",
    "dip_deliver_ubl.add_output(\"time_of_response\")\n",
    "\n",
    "# dip_deliver_ubl.get_fields()\n",
    "# dip_deliver_ubl.visualize().show('DIP_UBL_Template.html')"
   ]
  },
  {
   "cell_type": "markdown",
   "id": "5bbe8ddb",
   "metadata": {},
   "source": [
    "## Use the code below to understand what to map"
   ]
  },
  {
   "cell_type": "code",
   "execution_count": 92,
   "id": "c8d942f5",
   "metadata": {},
   "outputs": [
    {
     "data": {
      "text/plain": [
       "namespace(s3_uri=<oiss.ontologies.fmk.LiteralField at 0x7fb3e550e760>,\n",
       "          checksum=<oiss.ontologies.fmk.LiteralField at 0x7fb3e5c82c10>,\n",
       "          website_reference=<oiss.ontologies.fmk.LiteralField at 0x7fb3e550eac0>,\n",
       "          data_reference=<oiss.ontologies.fmk.LiteralField at 0x7fb3e550e3d0>,\n",
       "          license=<oiss.ontologies.fmk.LiteralField at 0x7fb3e5467e80>,\n",
       "          provider=<oiss.ontologies.fmk.LiteralField at 0x7fb3e5467e20>)"
      ]
     },
     "execution_count": 92,
     "metadata": {},
     "output_type": "execute_result"
    }
   ],
   "source": [
    "aiu_ubl_template.outputs"
   ]
  },
  {
   "cell_type": "code",
   "execution_count": 93,
   "id": "e66b4b52",
   "metadata": {},
   "outputs": [
    {
     "data": {
      "text/plain": [
       "namespace(input_csv_s3_uri=<oiss.ontologies.fmk.LiteralField at 0x7fb3e54b9e20>,\n",
       "          output_s3_bucket=<oiss.ontologies.fmk.LiteralField at 0x7fb3e54b9cd0>,\n",
       "          output_s3_key=<oiss.ontologies.fmk.LiteralField at 0x7fb3e54782e0>)"
      ]
     },
     "execution_count": 93,
     "metadata": {},
     "output_type": "execute_result"
    }
   ],
   "source": [
    "aiu_ubl_template.inputs"
   ]
  },
  {
   "cell_type": "code",
   "execution_count": 94,
   "id": "7d01887a",
   "metadata": {},
   "outputs": [
    {
     "data": {
      "text/plain": [
       "namespace(access_key=<oiss.ontologies.fmk.LiteralField at 0x7fb3e544c460>,\n",
       "          access_bucket=<oiss.ontologies.fmk.LiteralField at 0x7fb3e543c640>,\n",
       "          member_type=<oiss.ontologies.fmk.LiteralField at 0x7fb3e5404190>,\n",
       "          destination_prefix=<oiss.ontologies.fmk.LiteralField at 0x7fb3e544c340>,\n",
       "          s3_uri=<oiss.ontologies.fmk.LiteralField at 0x7fb3e544c310>)"
      ]
     },
     "execution_count": 94,
     "metadata": {},
     "output_type": "execute_result"
    }
   ],
   "source": [
    "dip_deliver_ubl.inputs"
   ]
  },
  {
   "cell_type": "code",
   "execution_count": 95,
   "id": "bbb53bcb",
   "metadata": {},
   "outputs": [
    {
     "data": {
      "text/plain": [
       "namespace(request_value=<oiss.ontologies.fmk.LiteralField at 0x7fb3e544c760>,\n",
       "          response_value=<oiss.ontologies.fmk.LiteralField at 0x7fb3e544c280>,\n",
       "          delivery_success=<oiss.ontologies.fmk.LiteralField at 0x7fb3e544c3a0>,\n",
       "          time_of_request=<oiss.ontologies.fmk.LiteralField at 0x7fb3e544c670>,\n",
       "          time_of_response=<oiss.ontologies.fmk.LiteralField at 0x7fb3e544c0d0>)"
      ]
     },
     "execution_count": 95,
     "metadata": {},
     "output_type": "execute_result"
    }
   ],
   "source": [
    "dip_deliver_ubl.outputs"
   ]
  },
  {
   "cell_type": "code",
   "execution_count": 96,
   "id": "70b44b20",
   "metadata": {},
   "outputs": [
    {
     "data": {
      "text/plain": [
       "{'message': {'value': <oiss.ontologies.fmk.LiteralField at 0x7fb3e51df4c0>},\n",
       " 'request_value': {'request_value_value': <oiss.ontologies.fmk.LiteralField at 0x7fb3e51df5b0>},\n",
       " 'response_value': {'response_value_value': <oiss.ontologies.fmk.LiteralField at 0x7fb3e5727f70>},\n",
       " 'response_message': {'response_message_value': <oiss.ontologies.fmk.LiteralField at 0x7fb3e51e3220>},\n",
       " 'time_of_request': {'time_of_request_value': <oiss.ontologies.fmk.LiteralField at 0x7fb3e51e3940>},\n",
       " 'time_of_response': {'time_of_response_value': <oiss.ontologies.fmk.LiteralField at 0x7fb3e51e3cd0>}}"
      ]
     },
     "execution_count": 96,
     "metadata": {},
     "output_type": "execute_result"
    }
   ],
   "source": [
    "dip_storage_template.get_fields()"
   ]
  },
  {
   "cell_type": "code",
   "execution_count": 97,
   "id": "1b852a6f",
   "metadata": {},
   "outputs": [
    {
     "data": {
      "text/plain": [
       "<oiss.ontology.OutputTaskTemplate at 0x7fb3e51ac640>"
      ]
     },
     "execution_count": 97,
     "metadata": {},
     "output_type": "execute_result"
    }
   ],
   "source": [
    "dip_task_template.match_field(aiu_ubl_template.outputs.s3_uri, dip_deliver_ubl.inputs.s3_uri)\n",
    "dip_task_template.match_field(aiu_ubl_template.inputs.output_s3_bucket, dip_deliver_ubl.inputs.access_bucket)\n",
    "dip_task_template.match_field(aiu_ubl_template.inputs.output_s3_key, dip_deliver_ubl.inputs.access_key)"
   ]
  },
  {
   "cell_type": "markdown",
   "id": "645cadc1",
   "metadata": {},
   "source": [
    "### Link DIP UBL output fields to DIP storage template fields"
   ]
  },
  {
   "cell_type": "code",
   "execution_count": 98,
   "id": "cc1bc847",
   "metadata": {},
   "outputs": [
    {
     "data": {
      "text/plain": [
       "<oiss.ontology.OutputTaskTemplate at 0x7fb3e51ac640>"
      ]
     },
     "execution_count": 98,
     "metadata": {},
     "output_type": "execute_result"
    }
   ],
   "source": [
    "dip_task_template.match_field(dip_deliver_ubl.outputs.request_value, dip_storage_template.request_value.request_value_value)\n",
    "dip_task_template.match_field(dip_deliver_ubl.outputs.response_value, dip_storage_template.response_value.response_value_value)\n",
    "dip_task_template.match_field(dip_deliver_ubl.outputs.delivery_success, dip_storage_template.response_message.response_message_value)\n",
    "dip_task_template.match_field(dip_deliver_ubl.outputs.time_of_request, dip_storage_template.time_of_request.time_of_request_value)\n",
    "dip_task_template.match_field(dip_deliver_ubl.outputs.time_of_response, dip_storage_template.time_of_response.time_of_response_value)"
   ]
  },
  {
   "cell_type": "markdown",
   "id": "eed53f6d",
   "metadata": {},
   "source": [
    "# **Initialize OISS Process**"
   ]
  },
  {
   "cell_type": "markdown",
   "id": "7f9a8775",
   "metadata": {},
   "source": [
    "### Step 1: Link the AIU Task to the AIC Task"
   ]
  },
  {
   "cell_type": "code",
   "execution_count": 99,
   "id": "b14e0fc2",
   "metadata": {},
   "outputs": [
    {
     "data": {
      "text/plain": [
       "<oiss.ontology.ProcessTemplate at 0x7fb40c906ac0>"
      ]
     },
     "execution_count": 99,
     "metadata": {},
     "output_type": "execute_result"
    }
   ],
   "source": [
    "process_template.link_aic_task(aiu_task_template, aic_task_template)"
   ]
  },
  {
   "cell_type": "markdown",
   "id": "8f4191a1",
   "metadata": {},
   "source": [
    "### Step 2: Link the AIU Task to the DIP Task"
   ]
  },
  {
   "cell_type": "code",
   "execution_count": 100,
   "id": "723be179",
   "metadata": {},
   "outputs": [
    {
     "data": {
      "text/plain": [
       "<oiss.ontology.ProcessTemplate at 0x7fb40c906ac0>"
      ]
     },
     "execution_count": 100,
     "metadata": {},
     "output_type": "execute_result"
    }
   ],
   "source": [
    "process_template.link_dip_task(aiu_task_template, dip_task_template)"
   ]
  },
  {
   "cell_type": "markdown",
   "id": "7a8f91a7",
   "metadata": {},
   "source": [
    "### Step 5: Deploy the process"
   ]
  },
  {
   "cell_type": "code",
   "execution_count": 101,
   "id": "6cc6bc63",
   "metadata": {},
   "outputs": [
    {
     "name": "stdout",
     "output_type": "stream",
     "text": [
      "sed_process_template.html\n"
     ]
    },
    {
     "data": {
      "text/html": [
       "\n",
       "        <iframe\n",
       "            width=\"100%\"\n",
       "            height=\"600px\"\n",
       "            src=\"sed_process_template.html\"\n",
       "            frameborder=\"0\"\n",
       "            allowfullscreen\n",
       "            \n",
       "        ></iframe>\n",
       "        "
      ],
      "text/plain": [
       "<IPython.lib.display.IFrame at 0x7fb3e578e610>"
      ]
     },
     "execution_count": 101,
     "metadata": {},
     "output_type": "execute_result"
    }
   ],
   "source": [
    "process_template.serialize(to_str=False, qualified_save_path=\"sed_process.xml\")\n",
    "aiu_storage_template.serialize(to_str = False, qualified_save_path=\"aiu_template.xml\")\n",
    "aic_storage_template.serialize(to_str = False, qualified_save_path=\"aic_template.xml\")\n",
    "dip_storage_template.serialize(to_str = False, qualified_save_path=\"dip_template.xml\")\n",
    "# process_template.deploy(resolution=\"full\", overwrite=True)\n",
    "\n",
    "# process_template.validate()\n",
    "process_template.visualize().show(\"sed_process_template.html\")"
   ]
  },
  {
   "cell_type": "markdown",
   "id": "d5e13de5",
   "metadata": {},
   "source": [
    "### Step 6: Trigger the process to produce data records"
   ]
  },
  {
   "cell_type": "code",
   "execution_count": 102,
   "id": "6626a3f0",
   "metadata": {},
   "outputs": [],
   "source": [
    "# python3 trigger_process.py -r low lapenta25_process_template nccf-sandbox-archive-workspace-us-east-1-188772587448 foldername/SED.csv sandbox"
   ]
  },
  {
   "cell_type": "code",
   "execution_count": 103,
   "id": "2107fa92",
   "metadata": {},
   "outputs": [],
   "source": [
    "# sed_process_template = process_template.deploy(resolution=\"full\", overwrite=True)\n",
    "\n",
    "# print(f\"Process = {process_template.node.iri}\")\n",
    "# print(f\"AIU Template = {aiu_task_template.node.iri}\")\n",
    "# print(f\"AIC Template = {aic_task_template.node.iri}\")\n",
    "# print(f\"DIP Template = {dip_task_template.node.iri}\")\n",
    "\n",
    "# print(type(sed_process_template))\n",
    "# print(sed_process_template)\n",
    "\n",
    "# response = sed_process_template \n",
    "\n",
    "# for key, val in response.items():\n",
    "#     print(f\"iri: {key} type: {type(val)} value: {val}\")\n",
    "#     if isinstance(val, dict):\n",
    "#         for subkey, subval in val.items():\n",
    "#             print(f\"  {subkey}: {subval}\")"
   ]
  },
  {
   "cell_type": "code",
   "execution_count": 104,
   "id": "28d67082",
   "metadata": {},
   "outputs": [
    {
     "name": "stderr",
     "output_type": "stream",
     "text": [
      "/home/ec2-user/OISS/oiss-api/oiss/ontologies/base.py:483: UserWarning: This iri https://ncei.noaa.gov/oiss/template/storage/aiu/sed_aiu_template/sed_aiu_template already exists. Overwriting!!\n",
      "  warnings.warn(f\"This iri {self.node.iri} already exists. Overwriting!!\")\n"
     ]
    },
    {
     "name": "stdout",
     "output_type": "stream",
     "text": [
      "No existing connection. Creating...\n"
     ]
    },
    {
     "name": "stderr",
     "output_type": "stream",
     "text": [
      "/home/ec2-user/OISS/oiss-api/oiss/ontology.py:255: UserWarning: This iri https://ncei.noaa.gov/oiss/template/storage/aic/sed_aic_template/sed_aic_template already exists. Overwriting!!\n",
      "  warnings.warn(f\"This iri {self.node.iri} already exists. Overwriting!!\")\n",
      "/home/ec2-user/OISS/oiss-api/oiss/ontology.py:269: UserWarning: OVERWRITE has been specified. If template exists in S3 or Neptune, specified template will be overwritten\n",
      "  if overwrite: warnings.warn(f\"OVERWRITE has been specified. If template exists in S3 or Neptune, specified template will be overwritten\")\n",
      "/home/ec2-user/OISS/oiss-api/oiss/ontologies/base.py:483: UserWarning: This iri https://ncei.noaa.gov/oiss/template/storage/dip/sed_dip_template/sed_dip_template already exists. Overwriting!!\n",
      "  warnings.warn(f\"This iri {self.node.iri} already exists. Overwriting!!\")\n",
      "/home/ec2-user/OISS/oiss-api/oiss/ontology.py:1474: UserWarning: This iri https://ncei.noaa.gov/oiss/template/process/lapenta25_process_template/lapenta25_process_template already exists. Overwriting!!\n",
      "  warnings.warn(f\"This iri {self.node.iri} already exists. Overwriting!!\")\n"
     ]
    },
    {
     "data": {
      "text/plain": [
       "{'MD5OfMessageBody': 'b93dee6c248864fee25aeea72678a8b0',\n",
       " 'MessageId': 'd2a48849-c01d-44d4-939b-6a7bcf92be23',\n",
       " 'SequenceNumber': '18895766379047151616',\n",
       " 'ResponseMetadata': {'RequestId': 'e7a3cd27-4181-52d8-8f9b-ac2293654afd',\n",
       "  'HTTPStatusCode': 200,\n",
       "  'HTTPHeaders': {'x-amzn-requestid': 'e7a3cd27-4181-52d8-8f9b-ac2293654afd',\n",
       "   'date': 'Thu, 31 Jul 2025 20:23:00 GMT',\n",
       "   'content-type': 'application/x-amz-json-1.0',\n",
       "   'content-length': '146',\n",
       "   'connection': 'keep-alive'},\n",
       "  'RetryAttempts': 0}}"
      ]
     },
     "execution_count": 104,
     "metadata": {},
     "output_type": "execute_result"
    }
   ],
   "source": [
    "aiu_storage_template.deploy(overwrite=True)\n",
    "aic_storage_template.deploy(overwrite=True)\n",
    "dip_storage_template.deploy(overwrite=True)\n",
    "process_template.deploy(resolution=\"low\", overwrite=True)"
   ]
  }
 ],
 "metadata": {
  "kernelspec": {
   "display_name": ".sedvenv",
   "language": "python",
   "name": "python3"
  },
  "language_info": {
   "codemirror_mode": {
    "name": "ipython",
    "version": 3
   },
   "file_extension": ".py",
   "mimetype": "text/x-python",
   "name": "python",
   "nbconvert_exporter": "python",
   "pygments_lexer": "ipython3",
   "version": "3.9.22"
  }
 },
 "nbformat": 4,
 "nbformat_minor": 5
}
